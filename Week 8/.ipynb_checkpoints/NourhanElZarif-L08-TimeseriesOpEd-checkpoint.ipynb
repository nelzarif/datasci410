{
 "cells": [
  {
   "cell_type": "markdown",
   "metadata": {},
   "source": [
    "# Lesson 8 - Time Series Analysis \n",
    "\n",
    "## Author - Nourhan El Zarif\n",
    "\n"
   ]
  },
  {
   "cell_type": "markdown",
   "metadata": {},
   "source": [
    "## Instructions\n",
    "\n",
    "Using the California dairy production dataset, perform time series analysis on the data for one of Cottage Cheese Production, Milk Production, or Ice Cream Production (your choice) to answer the following questions:\n",
    "\n",
    "1. Is this time series stationary?\n",
    "2. Is there a significant seasonal component?\n",
    "3. For the residual from the STL decomposition of the time series, what is the order of the ARMA(p,q) process that best fits?\n",
    "\n",
    "Then forecast production for 12 months and report both numeric values and plot the confidence intervals.\n",
    "\n",
    "1. Are the confidence intervals reasonably small compared to the forecast means?\n",
    "2. How do the confidence intervals behave as time moves to the future?\n"
   ]
  },
  {
   "cell_type": "markdown",
   "metadata": {},
   "source": [
    "### Note\n",
    "Please clearly outline the results with markdown text. Be sure your discussion includes narrative for your figures and tables so it is clear to the reader the importance of each bit of evidence."
   ]
  },
  {
   "cell_type": "code",
   "execution_count": 1,
   "metadata": {},
   "outputs": [],
   "source": [
    "fileName = \"https://library.startlearninglabs.uw.edu/DATASCI410/Datasets/CADairyProduction.csv\""
   ]
  },
  {
   "cell_type": "code",
   "execution_count": 2,
   "metadata": {},
   "outputs": [],
   "source": [
    "# Load necessary libraries\n",
    "import pandas as pd\n",
    "import numpy as np\n",
    "import matplotlib.pyplot as plt"
   ]
  },
  {
   "cell_type": "code",
   "execution_count": 3,
   "metadata": {},
   "outputs": [
    {
     "data": {
      "text/html": [
       "<div>\n",
       "<style scoped>\n",
       "    .dataframe tbody tr th:only-of-type {\n",
       "        vertical-align: middle;\n",
       "    }\n",
       "\n",
       "    .dataframe tbody tr th {\n",
       "        vertical-align: top;\n",
       "    }\n",
       "\n",
       "    .dataframe thead th {\n",
       "        text-align: right;\n",
       "    }\n",
       "</style>\n",
       "<table border=\"1\" class=\"dataframe\">\n",
       "  <thead>\n",
       "    <tr style=\"text-align: right;\">\n",
       "      <th></th>\n",
       "      <th>Year</th>\n",
       "      <th>Month</th>\n",
       "      <th>Cotagecheese.Prod</th>\n",
       "      <th>Icecream.Prod</th>\n",
       "      <th>Milk.Prod</th>\n",
       "      <th>N.CA.Fat.Price</th>\n",
       "      <th>Month.Count</th>\n",
       "      <th>monthNumSqred</th>\n",
       "      <th>monthNumCubed</th>\n",
       "    </tr>\n",
       "  </thead>\n",
       "  <tbody>\n",
       "    <tr>\n",
       "      <th>1995-01-31</th>\n",
       "      <td>1995</td>\n",
       "      <td>Jan</td>\n",
       "      <td>4.370</td>\n",
       "      <td>51.595</td>\n",
       "      <td>2.112</td>\n",
       "      <td>0.9803</td>\n",
       "      <td>1</td>\n",
       "      <td>1</td>\n",
       "      <td>1</td>\n",
       "    </tr>\n",
       "    <tr>\n",
       "      <th>1995-02-28</th>\n",
       "      <td>1995</td>\n",
       "      <td>Feb</td>\n",
       "      <td>3.695</td>\n",
       "      <td>56.086</td>\n",
       "      <td>1.932</td>\n",
       "      <td>0.8924</td>\n",
       "      <td>2</td>\n",
       "      <td>4</td>\n",
       "      <td>8</td>\n",
       "    </tr>\n",
       "    <tr>\n",
       "      <th>1995-03-31</th>\n",
       "      <td>1995</td>\n",
       "      <td>Mar</td>\n",
       "      <td>4.538</td>\n",
       "      <td>68.453</td>\n",
       "      <td>2.162</td>\n",
       "      <td>0.8924</td>\n",
       "      <td>3</td>\n",
       "      <td>9</td>\n",
       "      <td>27</td>\n",
       "    </tr>\n",
       "    <tr>\n",
       "      <th>1995-04-30</th>\n",
       "      <td>1995</td>\n",
       "      <td>Apr</td>\n",
       "      <td>4.280</td>\n",
       "      <td>65.722</td>\n",
       "      <td>2.130</td>\n",
       "      <td>0.8967</td>\n",
       "      <td>4</td>\n",
       "      <td>16</td>\n",
       "      <td>64</td>\n",
       "    </tr>\n",
       "    <tr>\n",
       "      <th>1995-05-31</th>\n",
       "      <td>1995</td>\n",
       "      <td>May</td>\n",
       "      <td>4.470</td>\n",
       "      <td>73.730</td>\n",
       "      <td>2.227</td>\n",
       "      <td>0.8967</td>\n",
       "      <td>5</td>\n",
       "      <td>25</td>\n",
       "      <td>125</td>\n",
       "    </tr>\n",
       "  </tbody>\n",
       "</table>\n",
       "</div>"
      ],
      "text/plain": [
       "            Year Month  Cotagecheese.Prod  Icecream.Prod  Milk.Prod  \\\n",
       "1995-01-31  1995   Jan              4.370         51.595      2.112   \n",
       "1995-02-28  1995   Feb              3.695         56.086      1.932   \n",
       "1995-03-31  1995   Mar              4.538         68.453      2.162   \n",
       "1995-04-30  1995   Apr              4.280         65.722      2.130   \n",
       "1995-05-31  1995   May              4.470         73.730      2.227   \n",
       "\n",
       "            N.CA.Fat.Price  Month.Count  monthNumSqred  monthNumCubed  \n",
       "1995-01-31          0.9803            1              1              1  \n",
       "1995-02-28          0.8924            2              4              8  \n",
       "1995-03-31          0.8924            3              9             27  \n",
       "1995-04-30          0.8967            4             16             64  \n",
       "1995-05-31          0.8967            5             25            125  "
      ]
     },
     "execution_count": 3,
     "metadata": {},
     "output_type": "execute_result"
    }
   ],
   "source": [
    "#Load Data\n",
    "dairy = pd.read_csv(fileName, header = 0)\n",
    "#setting index to timeseries\n",
    "dairy.index = pd.date_range(start = '1-1-1995', end = '12-31-2013', freq = 'M')\n",
    "dairy.head()"
   ]
  },
  {
   "cell_type": "code",
   "execution_count": 4,
   "metadata": {},
   "outputs": [
    {
     "data": {
      "text/plain": [
       "Text(0.5, 1.0, 'California Dairy Production Time Series')"
      ]
     },
     "execution_count": 4,
     "metadata": {},
     "output_type": "execute_result"
    },
    {
     "data": {
      "image/png": "[encoded data removed]",
      "text/plain": [
       "<Figure size 432x288 with 3 Axes>"
      ]
     },
     "metadata": {
      "needs_background": "light"
     },
     "output_type": "display_data"
    }
   ],
   "source": [
    "f, (ax1, ax2, ax3) = plt.subplots(3, 1)\n",
    "dairy['Cotagecheese.Prod'].plot(ax = ax1)\n",
    "dairy['Icecream.Prod'].plot(ax = ax2)\n",
    "dairy['Milk.Prod'].plot(ax = ax3)\n",
    "ax1.set_ylabel('Cotage Cheese')\n",
    "ax2.set_ylabel('Ice Cream')\n",
    "ax3.set_ylabel('Milk')\n",
    "ax3.set_xlabel('Date')\n",
    "ax1.set_title('California Dairy Production Time Series')\n"
   ]
  },
  {
   "cell_type": "markdown",
   "metadata": {},
   "source": [
    "The time series plots above show the production of dairy from 1995 to 2013. During this period we can see the production of cottage cheese has decreased overall. Ice cream production has stayed cpnsistent with a seasonal behavior. Milk has increased in production, with the seasonal component growing with time. \n",
    "\n",
    "I will analyze the production of milk during this period. "
   ]
  },
  {
   "cell_type": "code",
   "execution_count": 5,
   "metadata": {},
   "outputs": [
    {
     "data": {
      "image/png": "[encoded data removed]",
      "text/plain": [
       "<Figure size 432x288 with 1 Axes>"
      ]
     },
     "execution_count": 5,
     "metadata": {},
     "output_type": "execute_result"
    },
    {
     "data": {
      "image/png": "[encoded data removed]",
      "text/plain": [
       "<Figure size 432x288 with 1 Axes>"
      ]
     },
     "metadata": {
      "needs_background": "light"
     },
     "output_type": "display_data"
    },
    {
     "data": {
      "image/png": "[encoded data removed]",
      "text/plain": [
       "<Figure size 432x288 with 1 Axes>"
      ]
     },
     "metadata": {
      "needs_background": "light"
     },
     "output_type": "display_data"
    }
   ],
   "source": [
    "import statsmodels.graphics.tsaplots as splt\n",
    "splt.plot_acf(dairy['Milk.Prod'], lags = 40)\n",
    "splt.plot_pacf(dairy['Milk.Prod'], lags = 40)"
   ]
  },
  {
   "cell_type": "markdown",
   "metadata": {},
   "source": [
    "The autocorrelation decays slowly, and the partial autocorrelation has many significant non-zero lags. Milk production appears to have a trend, and any time series with a trend is not stationary."
   ]
  },
  {
   "cell_type": "markdown",
   "metadata": {},
   "source": [
    "# Time Series Analysis\n",
    "\n",
    "## Is the Time Series Stationary?\n",
    "\n",
    "First step in determining if the time series is stationary is decomposing it."
   ]
  },
  {
   "cell_type": "code",
   "execution_count": 6,
   "metadata": {},
   "outputs": [
    {
     "name": "stdout",
     "output_type": "stream",
     "text": [
      "               resid     trend  seasonal\n",
      "1995-01-31       NaN       NaN  0.027271\n",
      "1995-02-28       NaN       NaN -0.179759\n",
      "1995-03-31       NaN       NaN  0.144447\n",
      "1995-04-30       NaN       NaN  0.079891\n",
      "1995-05-31       NaN       NaN  0.163026\n",
      "1995-06-30       NaN       NaN  0.011056\n",
      "1995-07-31  0.053120  2.110458  0.020421\n",
      "1995-08-31  0.035155  2.113000  0.003845\n",
      "1995-09-30  0.065041  2.116125 -0.119166\n",
      "1995-10-31  0.027444  2.117958 -0.024403\n",
      "1995-11-30  0.028062  2.119583 -0.117646\n",
      "1995-12-31 -0.020600  2.120583 -0.008984\n"
     ]
    },
    {
     "data": {
      "text/html": [
       "<div>\n",
       "<style scoped>\n",
       "    .dataframe tbody tr th:only-of-type {\n",
       "        vertical-align: middle;\n",
       "    }\n",
       "\n",
       "    .dataframe tbody tr th {\n",
       "        vertical-align: top;\n",
       "    }\n",
       "\n",
       "    .dataframe thead th {\n",
       "        text-align: right;\n",
       "    }\n",
       "</style>\n",
       "<table border=\"1\" class=\"dataframe\">\n",
       "  <thead>\n",
       "    <tr style=\"text-align: right;\">\n",
       "      <th></th>\n",
       "      <th>resid</th>\n",
       "      <th>trend</th>\n",
       "      <th>seasonal</th>\n",
       "    </tr>\n",
       "  </thead>\n",
       "  <tbody>\n",
       "    <tr>\n",
       "      <th>2013-01-31</th>\n",
       "      <td>0.008687</td>\n",
       "      <td>3.426042</td>\n",
       "      <td>0.027271</td>\n",
       "    </tr>\n",
       "    <tr>\n",
       "      <th>2013-02-28</th>\n",
       "      <td>-0.014074</td>\n",
       "      <td>3.424833</td>\n",
       "      <td>-0.179759</td>\n",
       "    </tr>\n",
       "    <tr>\n",
       "      <th>2013-03-31</th>\n",
       "      <td>0.102178</td>\n",
       "      <td>3.429375</td>\n",
       "      <td>0.144447</td>\n",
       "    </tr>\n",
       "    <tr>\n",
       "      <th>2013-04-30</th>\n",
       "      <td>0.110900</td>\n",
       "      <td>3.431208</td>\n",
       "      <td>0.079891</td>\n",
       "    </tr>\n",
       "    <tr>\n",
       "      <th>2013-05-31</th>\n",
       "      <td>0.124016</td>\n",
       "      <td>3.432958</td>\n",
       "      <td>0.163026</td>\n",
       "    </tr>\n",
       "    <tr>\n",
       "      <th>2013-06-30</th>\n",
       "      <td>0.042236</td>\n",
       "      <td>3.435708</td>\n",
       "      <td>0.011056</td>\n",
       "    </tr>\n",
       "    <tr>\n",
       "      <th>2013-07-31</th>\n",
       "      <td>NaN</td>\n",
       "      <td>NaN</td>\n",
       "      <td>0.020421</td>\n",
       "    </tr>\n",
       "    <tr>\n",
       "      <th>2013-08-31</th>\n",
       "      <td>NaN</td>\n",
       "      <td>NaN</td>\n",
       "      <td>0.003845</td>\n",
       "    </tr>\n",
       "    <tr>\n",
       "      <th>2013-09-30</th>\n",
       "      <td>NaN</td>\n",
       "      <td>NaN</td>\n",
       "      <td>-0.119166</td>\n",
       "    </tr>\n",
       "    <tr>\n",
       "      <th>2013-10-31</th>\n",
       "      <td>NaN</td>\n",
       "      <td>NaN</td>\n",
       "      <td>-0.024403</td>\n",
       "    </tr>\n",
       "    <tr>\n",
       "      <th>2013-11-30</th>\n",
       "      <td>NaN</td>\n",
       "      <td>NaN</td>\n",
       "      <td>-0.117646</td>\n",
       "    </tr>\n",
       "    <tr>\n",
       "      <th>2013-12-31</th>\n",
       "      <td>NaN</td>\n",
       "      <td>NaN</td>\n",
       "      <td>-0.008984</td>\n",
       "    </tr>\n",
       "  </tbody>\n",
       "</table>\n",
       "</div>"
      ],
      "text/plain": [
       "               resid     trend  seasonal\n",
       "2013-01-31  0.008687  3.426042  0.027271\n",
       "2013-02-28 -0.014074  3.424833 -0.179759\n",
       "2013-03-31  0.102178  3.429375  0.144447\n",
       "2013-04-30  0.110900  3.431208  0.079891\n",
       "2013-05-31  0.124016  3.432958  0.163026\n",
       "2013-06-30  0.042236  3.435708  0.011056\n",
       "2013-07-31       NaN       NaN  0.020421\n",
       "2013-08-31       NaN       NaN  0.003845\n",
       "2013-09-30       NaN       NaN -0.119166\n",
       "2013-10-31       NaN       NaN -0.024403\n",
       "2013-11-30       NaN       NaN -0.117646\n",
       "2013-12-31       NaN       NaN -0.008984"
      ]
     },
     "execution_count": 6,
     "metadata": {},
     "output_type": "execute_result"
    },
    {
     "data": {
      "image/png": "[encoded data removed]",
      "text/plain": [
       "<Figure size 432x288 with 4 Axes>"
      ]
     },
     "metadata": {
      "needs_background": "light"
     },
     "output_type": "display_data"
    }
   ],
   "source": [
    "import statsmodels.tsa.seasonal as sts\n",
    "def decomp_ts(ts, freq = 'M', model = 'additive'):\n",
    "    res = sts.seasonal_decompose(ts, model = model) #, freq = freq)\n",
    "    #resplot = res.plot()\n",
    "    res.plot()\n",
    "    return(pd.DataFrame({'resid': res.resid, \n",
    "                         'trend': res.trend, \n",
    "                         'seasonal': res.seasonal},\n",
    "                       index = ts.index) )\n",
    "\n",
    "decomp = decomp_ts(dairy['Milk.Prod'])\n",
    "print(decomp[:12])\n",
    "decomp[-12:]"
   ]
  },
  {
   "cell_type": "markdown",
   "metadata": {},
   "source": [
    "The decompositin shows that the dairy production time series is not stationary because it has a trend. \n",
    "\n",
    "## Seasonal Component\n",
    "The decomposition above shows a strong seasonal pattern that occurs annually.\n",
    "\n",
    "To see if the residuals are stationary, we can perform the Dicky Fuller test."
   ]
  },
  {
   "cell_type": "code",
   "execution_count": 7,
   "metadata": {},
   "outputs": [
    {
     "name": "stdout",
     "output_type": "stream",
     "text": [
      "D-F statistic = -5.102729220342747\n",
      "p-value = 1.3842923938680407e-05\n",
      "number of lags used = 14\n",
      "Critical value at 5% confidence = -2.876029332045744\n",
      "Critical value at 10% confidence = -2.5744932593252643\n"
     ]
    }
   ],
   "source": [
    "from statsmodels.tsa.stattools import adfuller\n",
    "def DF_Test(ts):\n",
    "    stationary = adfuller(ts)\n",
    "    ## Print the results\n",
    "    print('D-F statistic = ' + str(stationary[0]))\n",
    "    print('p-value = ' + str(stationary[1]))\n",
    "    print('number of lags used = ' + str(stationary[2]))\n",
    "    print('Critical value at 5% confidence = ' + str(stationary[4]['5%']))\n",
    "    print('Critical value at 10% confidence = ' + str(stationary[4]['10%']))\n",
    "DF_Test(decomp.resid[6:-6])  "
   ]
  },
  {
   "cell_type": "markdown",
   "metadata": {},
   "source": [
    "The p-value is very close to 0, and rejects the null hypothesis that the residual is not stationary."
   ]
  },
  {
   "cell_type": "markdown",
   "metadata": {},
   "source": [
    "## ARMA order\n",
    "To get the ARMA order\n",
    "\n",
    "3.For the residual from the STL decomposition of the time series, what is the order of the ARMA(p,q) process that best fits?"
   ]
  },
  {
   "cell_type": "code",
   "execution_count": 8,
   "metadata": {},
   "outputs": [
    {
     "name": "stdout",
     "output_type": "stream",
     "text": [
      "Testing model of order: (0, 0, 1) with BIC = -747.2053273053125\n",
      "Testing model of order: (0, 0, 2) with BIC = -761.6974171906506\n",
      "Testing model of order: (0, 0, 3) with BIC = -758.1534638214812\n",
      "Testing model of order: (0, 1, 1) with BIC = -709.8792562744482\n",
      "Testing model of order: (0, 1, 2) with BIC = -732.8446809314306\n",
      "Testing model of order: (0, 1, 3) with BIC = -747.7058433697621\n",
      "Testing model of order: (0, 2, 1) with BIC = -688.6273216434323\n",
      "Testing model of order: (1, 0, 0) with BIC = -761.5140236073962\n",
      "Testing model of order: (1, 0, 1) with BIC = -756.3006605890359\n",
      "Testing model of order: (1, 0, 2) with BIC = -751.8146732033899\n",
      "Testing model of order: (1, 0, 3) with BIC = -774.6786267031653\n",
      "Testing model of order: (1, 1, 0) with BIC = -708.979092117055\n",
      "Testing model of order: (1, 1, 1) with BIC = -747.775253825882\n",
      "Testing model of order: (1, 1, 2) with BIC = -742.528926418689\n",
      "Testing model of order: (1, 1, 3) with BIC = -743.5184807133542\n",
      "Testing model of order: (1, 2, 0) with BIC = -598.2335082046651\n",
      "Testing model of order: (2, 0, 0) with BIC = -756.4453066413378\n",
      "Testing model of order: (2, 0, 1) with BIC = -793.8216524734087\n",
      "Testing model of order: (2, 0, 2) with BIC = -797.065951320975\n",
      "Testing model of order: (2, 0, 3) with BIC = -792.8722866404678\n",
      "Testing model of order: (2, 1, 0) with BIC = -703.8194315936327\n",
      "Testing model of order: (2, 1, 1) with BIC = -742.637068714726\n",
      "Testing model of order: (2, 2, 0) with BIC = -617.9370224492662\n",
      "Testing model of order: (2, 2, 1) with BIC = -688.2980590949915\n",
      "Testing model of order: (3, 0, 0) with BIC = -763.2934148829781\n",
      "Testing model of order: (3, 0, 1) with BIC = -798.1544561497769\n",
      "Testing model of order: (3, 0, 2) with BIC = -792.7841997755775\n",
      "Testing model of order: (3, 0, 3) with BIC = -786.671385492639\n",
      "Testing model of order: (3, 1, 0) with BIC = -700.4093131489974\n",
      "Testing model of order: (3, 1, 1) with BIC = -748.9630417012024\n",
      "Testing model of order: (3, 2, 0) with BIC = -619.8868082082615\n",
      "Testing model of order: (3, 2, 1) with BIC = -684.7066840510698\n",
      "***************************************\n",
      "Best model with BIC = -798.1544561497769 and with order (3, 0, 1)\n"
     ]
    }
   ],
   "source": [
    "def model_ARIMA_2(ts, order):\n",
    "    from statsmodels.tsa.arima_model import ARIMA\n",
    "    from statsmodels.tsa.arima_model import ARIMAResults    \n",
    "    model = ARIMA(ts, order = order)\n",
    "    model_fit = model.fit(disp=0, method='mle', trend='nc')\n",
    "    BIC = ARIMAResults.bic(model_fit)\n",
    "    print('Testing model of order: ' + str(order) + ' with BIC = ' + str(BIC))\n",
    "    return(BIC, order, model_fit)\n",
    "\n",
    "def step_ARIMA(resid, p_max, d_max, q_max):\n",
    "    from statsmodels.tsa.arima_model import ARIMAResults    \n",
    "    from statsmodels.tsa.arima_model import ARIMA\n",
    "    best_BIC = 9999999999999999.0\n",
    "    for p in range(p_max + 1):\n",
    "        for d in range(d_max + 1):\n",
    "            for q in range(q_max + 1):\n",
    "                if(p > 0 or q > 0):\n",
    "                    try:\n",
    "                        order = (p, d, q)\n",
    "                        BIC, order, model = model_ARIMA_2(resid, order)\n",
    "                        if(BIC < best_BIC):\n",
    "                            best_model = model\n",
    "                            best_BIC = BIC\n",
    "                            best_order = order\n",
    "                    except: \n",
    "                        pass        \n",
    "    return(best_BIC, best_order, best_model) \n",
    "\n",
    "BIC, order, model = step_ARIMA(decomp.resid[6:-6], 3, 3, 3)    \n",
    "print('***************************************')\n",
    "print('Best model with BIC = ' + str(BIC) + ' and with order '+ str(order))"
   ]
  },
  {
   "cell_type": "markdown",
   "metadata": {},
   "source": [
    "Now that the best model order is known, we can test how the model fits the residuals"
   ]
  },
  {
   "cell_type": "code",
   "execution_count": 9,
   "metadata": {},
   "outputs": [
    {
     "name": "stdout",
     "output_type": "stream",
     "text": [
      "                              ARMA Model Results                              \n",
      "==============================================================================\n",
      "Dep. Variable:                  resid   No. Observations:                  216\n",
      "Model:                     ARMA(3, 1)   Log Likelihood                 412.515\n",
      "Method:                           mle   S.D. of innovations              0.036\n",
      "Date:                Mon, 25 Nov 2019   AIC                           -815.031\n",
      "Time:                        02:44:30   BIC                           -798.154\n",
      "Sample:                    07-31-1995   HQIC                          -808.213\n",
      "                         - 06-30-2013                                         \n",
      "===============================================================================\n",
      "                  coef    std err          z      P>|z|      [0.025      0.975]\n",
      "-------------------------------------------------------------------------------\n",
      "ar.L1.resid     1.2798      0.067     18.976      0.000       1.148       1.412\n",
      "ar.L2.resid    -0.3204      0.109     -2.951      0.004      -0.533      -0.108\n",
      "ar.L3.resid    -0.2159      0.068     -3.161      0.002      -0.350      -0.082\n",
      "ma.L1.resid    -0.9755      0.018    -54.609      0.000      -1.011      -0.941\n",
      "                                    Roots                                    \n",
      "=============================================================================\n",
      "                  Real          Imaginary           Modulus         Frequency\n",
      "-----------------------------------------------------------------------------\n",
      "AR.1            1.0244           -0.5114j            1.1449           -0.0737\n",
      "AR.2            1.0244           +0.5114j            1.1449            0.0737\n",
      "AR.3           -3.5325           -0.0000j            3.5325           -0.5000\n",
      "MA.1            1.0251           +0.0000j            1.0251            0.0000\n",
      "-----------------------------------------------------------------------------\n"
     ]
    }
   ],
   "source": [
    "def model_ARIMA(ts, order):\n",
    "    from statsmodels.tsa.arima_model import ARIMA\n",
    "    model = ARIMA(ts, order = order)\n",
    "    model_fit = model.fit(disp=0, method='mle', trend='nc')\n",
    "    print(model_fit.summary())\n",
    "    return(model_fit)\n",
    "\n",
    "milk_model = model_ARIMA(decomp.resid[6:-6], (3,0,1))"
   ]
  },
  {
   "cell_type": "markdown",
   "metadata": {},
   "source": [
    "All the coefficients appear to be significant. All the p-values are less than 0.05, and the standard errors are not too big relative to the coefficients."
   ]
  },
  {
   "cell_type": "markdown",
   "metadata": {},
   "source": [
    "# Forecasting Production\n",
    "Then forecast production for 12 months and report both numeric values and plot the confidence intervals.\n",
    "1.Are the confidence intervals reasonably small compared to the forecast means?\n",
    "2.How do the confidence intervals behave as time moves to the future?\n"
   ]
  },
  {
   "cell_type": "code",
   "execution_count": 10,
   "metadata": {},
   "outputs": [
    {
     "data": {
      "text/html": [
       "<div>\n",
       "<style scoped>\n",
       "    .dataframe tbody tr th:only-of-type {\n",
       "        vertical-align: middle;\n",
       "    }\n",
       "\n",
       "    .dataframe tbody tr th {\n",
       "        vertical-align: top;\n",
       "    }\n",
       "\n",
       "    .dataframe thead th {\n",
       "        text-align: right;\n",
       "    }\n",
       "</style>\n",
       "<table border=\"1\" class=\"dataframe\">\n",
       "  <thead>\n",
       "    <tr style=\"text-align: right;\">\n",
       "      <th></th>\n",
       "      <th>Year</th>\n",
       "      <th>Month</th>\n",
       "      <th>Cotagecheese.Prod</th>\n",
       "      <th>Icecream.Prod</th>\n",
       "      <th>Milk.Prod</th>\n",
       "      <th>N.CA.Fat.Price</th>\n",
       "      <th>Month.Count</th>\n",
       "      <th>monthNumSqred</th>\n",
       "      <th>monthNumCubed</th>\n",
       "    </tr>\n",
       "  </thead>\n",
       "  <tbody>\n",
       "    <tr>\n",
       "      <th>1995-01-31</th>\n",
       "      <td>1995</td>\n",
       "      <td>Jan</td>\n",
       "      <td>4.370</td>\n",
       "      <td>51.595</td>\n",
       "      <td>2.112</td>\n",
       "      <td>0.9803</td>\n",
       "      <td>1</td>\n",
       "      <td>1</td>\n",
       "      <td>1</td>\n",
       "    </tr>\n",
       "    <tr>\n",
       "      <th>1995-02-28</th>\n",
       "      <td>1995</td>\n",
       "      <td>Feb</td>\n",
       "      <td>3.695</td>\n",
       "      <td>56.086</td>\n",
       "      <td>1.932</td>\n",
       "      <td>0.8924</td>\n",
       "      <td>2</td>\n",
       "      <td>4</td>\n",
       "      <td>8</td>\n",
       "    </tr>\n",
       "    <tr>\n",
       "      <th>1995-03-31</th>\n",
       "      <td>1995</td>\n",
       "      <td>Mar</td>\n",
       "      <td>4.538</td>\n",
       "      <td>68.453</td>\n",
       "      <td>2.162</td>\n",
       "      <td>0.8924</td>\n",
       "      <td>3</td>\n",
       "      <td>9</td>\n",
       "      <td>27</td>\n",
       "    </tr>\n",
       "    <tr>\n",
       "      <th>1995-04-30</th>\n",
       "      <td>1995</td>\n",
       "      <td>Apr</td>\n",
       "      <td>4.280</td>\n",
       "      <td>65.722</td>\n",
       "      <td>2.130</td>\n",
       "      <td>0.8967</td>\n",
       "      <td>4</td>\n",
       "      <td>16</td>\n",
       "      <td>64</td>\n",
       "    </tr>\n",
       "    <tr>\n",
       "      <th>1995-05-31</th>\n",
       "      <td>1995</td>\n",
       "      <td>May</td>\n",
       "      <td>4.470</td>\n",
       "      <td>73.730</td>\n",
       "      <td>2.227</td>\n",
       "      <td>0.8967</td>\n",
       "      <td>5</td>\n",
       "      <td>25</td>\n",
       "      <td>125</td>\n",
       "    </tr>\n",
       "  </tbody>\n",
       "</table>\n",
       "</div>"
      ],
      "text/plain": [
       "            Year Month  Cotagecheese.Prod  Icecream.Prod  Milk.Prod  \\\n",
       "1995-01-31  1995   Jan              4.370         51.595      2.112   \n",
       "1995-02-28  1995   Feb              3.695         56.086      1.932   \n",
       "1995-03-31  1995   Mar              4.538         68.453      2.162   \n",
       "1995-04-30  1995   Apr              4.280         65.722      2.130   \n",
       "1995-05-31  1995   May              4.470         73.730      2.227   \n",
       "\n",
       "            N.CA.Fat.Price  Month.Count  monthNumSqred  monthNumCubed  \n",
       "1995-01-31          0.9803            1              1              1  \n",
       "1995-02-28          0.8924            2              4              8  \n",
       "1995-03-31          0.8924            3              9             27  \n",
       "1995-04-30          0.8967            4             16             64  \n",
       "1995-05-31          0.8967            5             25            125  "
      ]
     },
     "execution_count": 10,
     "metadata": {},
     "output_type": "execute_result"
    }
   ],
   "source": [
    "dairy.head()"
   ]
  },
  {
   "cell_type": "code",
   "execution_count": 11,
   "metadata": {},
   "outputs": [
    {
     "data": {
      "text/html": [
       "<div>\n",
       "<style scoped>\n",
       "    .dataframe tbody tr th:only-of-type {\n",
       "        vertical-align: middle;\n",
       "    }\n",
       "\n",
       "    .dataframe tbody tr th {\n",
       "        vertical-align: top;\n",
       "    }\n",
       "\n",
       "    .dataframe thead th {\n",
       "        text-align: right;\n",
       "    }\n",
       "</style>\n",
       "<table border=\"1\" class=\"dataframe\">\n",
       "  <thead>\n",
       "    <tr style=\"text-align: right;\">\n",
       "      <th></th>\n",
       "      <th>Year</th>\n",
       "      <th>Month</th>\n",
       "      <th>Cotagecheese.Prod</th>\n",
       "      <th>Icecream.Prod</th>\n",
       "      <th>Milk.Prod</th>\n",
       "      <th>N.CA.Fat.Price</th>\n",
       "      <th>Month.Count</th>\n",
       "      <th>monthNumSqred</th>\n",
       "      <th>monthNumCubed</th>\n",
       "      <th>Apr</th>\n",
       "      <th>...</th>\n",
       "      <th>Dec</th>\n",
       "      <th>Feb</th>\n",
       "      <th>Jan</th>\n",
       "      <th>Jul</th>\n",
       "      <th>Jun</th>\n",
       "      <th>Mar</th>\n",
       "      <th>May</th>\n",
       "      <th>Nov</th>\n",
       "      <th>Oct</th>\n",
       "      <th>Sep</th>\n",
       "    </tr>\n",
       "  </thead>\n",
       "  <tbody>\n",
       "    <tr>\n",
       "      <th>1995-01-31</th>\n",
       "      <td>1995</td>\n",
       "      <td>Jan</td>\n",
       "      <td>4.370</td>\n",
       "      <td>51.595</td>\n",
       "      <td>2.112</td>\n",
       "      <td>0.9803</td>\n",
       "      <td>-1.724471</td>\n",
       "      <td>-1.120740</td>\n",
       "      <td>1</td>\n",
       "      <td>0</td>\n",
       "      <td>...</td>\n",
       "      <td>0</td>\n",
       "      <td>0</td>\n",
       "      <td>1</td>\n",
       "      <td>0</td>\n",
       "      <td>0</td>\n",
       "      <td>0</td>\n",
       "      <td>0</td>\n",
       "      <td>0</td>\n",
       "      <td>0</td>\n",
       "      <td>0</td>\n",
       "    </tr>\n",
       "    <tr>\n",
       "      <th>1995-02-28</th>\n",
       "      <td>1995</td>\n",
       "      <td>Feb</td>\n",
       "      <td>3.695</td>\n",
       "      <td>56.086</td>\n",
       "      <td>1.932</td>\n",
       "      <td>0.8924</td>\n",
       "      <td>-1.709277</td>\n",
       "      <td>-1.120548</td>\n",
       "      <td>8</td>\n",
       "      <td>0</td>\n",
       "      <td>...</td>\n",
       "      <td>0</td>\n",
       "      <td>1</td>\n",
       "      <td>0</td>\n",
       "      <td>0</td>\n",
       "      <td>0</td>\n",
       "      <td>0</td>\n",
       "      <td>0</td>\n",
       "      <td>0</td>\n",
       "      <td>0</td>\n",
       "      <td>0</td>\n",
       "    </tr>\n",
       "    <tr>\n",
       "      <th>1995-03-31</th>\n",
       "      <td>1995</td>\n",
       "      <td>Mar</td>\n",
       "      <td>4.538</td>\n",
       "      <td>68.453</td>\n",
       "      <td>2.162</td>\n",
       "      <td>0.8924</td>\n",
       "      <td>-1.694084</td>\n",
       "      <td>-1.120226</td>\n",
       "      <td>27</td>\n",
       "      <td>0</td>\n",
       "      <td>...</td>\n",
       "      <td>0</td>\n",
       "      <td>0</td>\n",
       "      <td>0</td>\n",
       "      <td>0</td>\n",
       "      <td>0</td>\n",
       "      <td>1</td>\n",
       "      <td>0</td>\n",
       "      <td>0</td>\n",
       "      <td>0</td>\n",
       "      <td>0</td>\n",
       "    </tr>\n",
       "    <tr>\n",
       "      <th>1995-04-30</th>\n",
       "      <td>1995</td>\n",
       "      <td>Apr</td>\n",
       "      <td>4.280</td>\n",
       "      <td>65.722</td>\n",
       "      <td>2.130</td>\n",
       "      <td>0.8967</td>\n",
       "      <td>-1.678890</td>\n",
       "      <td>-1.119776</td>\n",
       "      <td>64</td>\n",
       "      <td>1</td>\n",
       "      <td>...</td>\n",
       "      <td>0</td>\n",
       "      <td>0</td>\n",
       "      <td>0</td>\n",
       "      <td>0</td>\n",
       "      <td>0</td>\n",
       "      <td>0</td>\n",
       "      <td>0</td>\n",
       "      <td>0</td>\n",
       "      <td>0</td>\n",
       "      <td>0</td>\n",
       "    </tr>\n",
       "    <tr>\n",
       "      <th>1995-05-31</th>\n",
       "      <td>1995</td>\n",
       "      <td>May</td>\n",
       "      <td>4.470</td>\n",
       "      <td>73.730</td>\n",
       "      <td>2.227</td>\n",
       "      <td>0.8967</td>\n",
       "      <td>-1.663696</td>\n",
       "      <td>-1.119198</td>\n",
       "      <td>125</td>\n",
       "      <td>0</td>\n",
       "      <td>...</td>\n",
       "      <td>0</td>\n",
       "      <td>0</td>\n",
       "      <td>0</td>\n",
       "      <td>0</td>\n",
       "      <td>0</td>\n",
       "      <td>0</td>\n",
       "      <td>1</td>\n",
       "      <td>0</td>\n",
       "      <td>0</td>\n",
       "      <td>0</td>\n",
       "    </tr>\n",
       "    <tr>\n",
       "      <th>1995-06-30</th>\n",
       "      <td>1995</td>\n",
       "      <td>Jun</td>\n",
       "      <td>4.238</td>\n",
       "      <td>77.994</td>\n",
       "      <td>2.124</td>\n",
       "      <td>0.9160</td>\n",
       "      <td>-1.648503</td>\n",
       "      <td>-1.118491</td>\n",
       "      <td>216</td>\n",
       "      <td>0</td>\n",
       "      <td>...</td>\n",
       "      <td>0</td>\n",
       "      <td>0</td>\n",
       "      <td>0</td>\n",
       "      <td>0</td>\n",
       "      <td>1</td>\n",
       "      <td>0</td>\n",
       "      <td>0</td>\n",
       "      <td>0</td>\n",
       "      <td>0</td>\n",
       "      <td>0</td>\n",
       "    </tr>\n",
       "    <tr>\n",
       "      <th>1995-07-31</th>\n",
       "      <td>1995</td>\n",
       "      <td>Jul</td>\n",
       "      <td>4.377</td>\n",
       "      <td>81.475</td>\n",
       "      <td>2.184</td>\n",
       "      <td>0.9160</td>\n",
       "      <td>-1.633309</td>\n",
       "      <td>-1.117656</td>\n",
       "      <td>343</td>\n",
       "      <td>0</td>\n",
       "      <td>...</td>\n",
       "      <td>0</td>\n",
       "      <td>0</td>\n",
       "      <td>0</td>\n",
       "      <td>1</td>\n",
       "      <td>0</td>\n",
       "      <td>0</td>\n",
       "      <td>0</td>\n",
       "      <td>0</td>\n",
       "      <td>0</td>\n",
       "      <td>0</td>\n",
       "    </tr>\n",
       "    <tr>\n",
       "      <th>1995-08-31</th>\n",
       "      <td>1995</td>\n",
       "      <td>Aug</td>\n",
       "      <td>4.368</td>\n",
       "      <td>74.981</td>\n",
       "      <td>2.152</td>\n",
       "      <td>0.8934</td>\n",
       "      <td>-1.618116</td>\n",
       "      <td>-1.116692</td>\n",
       "      <td>512</td>\n",
       "      <td>0</td>\n",
       "      <td>...</td>\n",
       "      <td>0</td>\n",
       "      <td>0</td>\n",
       "      <td>0</td>\n",
       "      <td>0</td>\n",
       "      <td>0</td>\n",
       "      <td>0</td>\n",
       "      <td>0</td>\n",
       "      <td>0</td>\n",
       "      <td>0</td>\n",
       "      <td>0</td>\n",
       "    </tr>\n",
       "    <tr>\n",
       "      <th>1995-09-30</th>\n",
       "      <td>1995</td>\n",
       "      <td>Sep</td>\n",
       "      <td>3.917</td>\n",
       "      <td>61.530</td>\n",
       "      <td>2.062</td>\n",
       "      <td>0.8934</td>\n",
       "      <td>-1.602922</td>\n",
       "      <td>-1.115600</td>\n",
       "      <td>729</td>\n",
       "      <td>0</td>\n",
       "      <td>...</td>\n",
       "      <td>0</td>\n",
       "      <td>0</td>\n",
       "      <td>0</td>\n",
       "      <td>0</td>\n",
       "      <td>0</td>\n",
       "      <td>0</td>\n",
       "      <td>0</td>\n",
       "      <td>0</td>\n",
       "      <td>0</td>\n",
       "      <td>1</td>\n",
       "    </tr>\n",
       "    <tr>\n",
       "      <th>1995-10-31</th>\n",
       "      <td>1995</td>\n",
       "      <td>Oct</td>\n",
       "      <td>4.078</td>\n",
       "      <td>60.022</td>\n",
       "      <td>2.121</td>\n",
       "      <td>0.9434</td>\n",
       "      <td>-1.587729</td>\n",
       "      <td>-1.114379</td>\n",
       "      <td>1000</td>\n",
       "      <td>0</td>\n",
       "      <td>...</td>\n",
       "      <td>0</td>\n",
       "      <td>0</td>\n",
       "      <td>0</td>\n",
       "      <td>0</td>\n",
       "      <td>0</td>\n",
       "      <td>0</td>\n",
       "      <td>0</td>\n",
       "      <td>0</td>\n",
       "      <td>1</td>\n",
       "      <td>0</td>\n",
       "    </tr>\n",
       "    <tr>\n",
       "      <th>1995-11-30</th>\n",
       "      <td>1995</td>\n",
       "      <td>Nov</td>\n",
       "      <td>3.611</td>\n",
       "      <td>52.772</td>\n",
       "      <td>2.030</td>\n",
       "      <td>0.9434</td>\n",
       "      <td>-1.572535</td>\n",
       "      <td>-1.113029</td>\n",
       "      <td>1331</td>\n",
       "      <td>0</td>\n",
       "      <td>...</td>\n",
       "      <td>0</td>\n",
       "      <td>0</td>\n",
       "      <td>0</td>\n",
       "      <td>0</td>\n",
       "      <td>0</td>\n",
       "      <td>0</td>\n",
       "      <td>0</td>\n",
       "      <td>1</td>\n",
       "      <td>0</td>\n",
       "      <td>0</td>\n",
       "    </tr>\n",
       "    <tr>\n",
       "      <th>1995-12-31</th>\n",
       "      <td>1995</td>\n",
       "      <td>Dec</td>\n",
       "      <td>3.591</td>\n",
       "      <td>50.850</td>\n",
       "      <td>2.091</td>\n",
       "      <td>1.0811</td>\n",
       "      <td>-1.557341</td>\n",
       "      <td>-1.111551</td>\n",
       "      <td>1728</td>\n",
       "      <td>0</td>\n",
       "      <td>...</td>\n",
       "      <td>1</td>\n",
       "      <td>0</td>\n",
       "      <td>0</td>\n",
       "      <td>0</td>\n",
       "      <td>0</td>\n",
       "      <td>0</td>\n",
       "      <td>0</td>\n",
       "      <td>0</td>\n",
       "      <td>0</td>\n",
       "      <td>0</td>\n",
       "    </tr>\n",
       "  </tbody>\n",
       "</table>\n",
       "<p>12 rows × 21 columns</p>\n",
       "</div>"
      ],
      "text/plain": [
       "            Year Month  Cotagecheese.Prod  Icecream.Prod  Milk.Prod  \\\n",
       "1995-01-31  1995   Jan              4.370         51.595      2.112   \n",
       "1995-02-28  1995   Feb              3.695         56.086      1.932   \n",
       "1995-03-31  1995   Mar              4.538         68.453      2.162   \n",
       "1995-04-30  1995   Apr              4.280         65.722      2.130   \n",
       "1995-05-31  1995   May              4.470         73.730      2.227   \n",
       "1995-06-30  1995   Jun              4.238         77.994      2.124   \n",
       "1995-07-31  1995   Jul              4.377         81.475      2.184   \n",
       "1995-08-31  1995   Aug              4.368         74.981      2.152   \n",
       "1995-09-30  1995   Sep              3.917         61.530      2.062   \n",
       "1995-10-31  1995   Oct              4.078         60.022      2.121   \n",
       "1995-11-30  1995   Nov              3.611         52.772      2.030   \n",
       "1995-12-31  1995   Dec              3.591         50.850      2.091   \n",
       "\n",
       "            N.CA.Fat.Price  Month.Count  monthNumSqred  monthNumCubed  Apr  \\\n",
       "1995-01-31          0.9803    -1.724471      -1.120740              1    0   \n",
       "1995-02-28          0.8924    -1.709277      -1.120548              8    0   \n",
       "1995-03-31          0.8924    -1.694084      -1.120226             27    0   \n",
       "1995-04-30          0.8967    -1.678890      -1.119776             64    1   \n",
       "1995-05-31          0.8967    -1.663696      -1.119198            125    0   \n",
       "1995-06-30          0.9160    -1.648503      -1.118491            216    0   \n",
       "1995-07-31          0.9160    -1.633309      -1.117656            343    0   \n",
       "1995-08-31          0.8934    -1.618116      -1.116692            512    0   \n",
       "1995-09-30          0.8934    -1.602922      -1.115600            729    0   \n",
       "1995-10-31          0.9434    -1.587729      -1.114379           1000    0   \n",
       "1995-11-30          0.9434    -1.572535      -1.113029           1331    0   \n",
       "1995-12-31          1.0811    -1.557341      -1.111551           1728    0   \n",
       "\n",
       "            ...  Dec  Feb  Jan  Jul  Jun  Mar  May  Nov  Oct  Sep  \n",
       "1995-01-31  ...    0    0    1    0    0    0    0    0    0    0  \n",
       "1995-02-28  ...    0    1    0    0    0    0    0    0    0    0  \n",
       "1995-03-31  ...    0    0    0    0    0    1    0    0    0    0  \n",
       "1995-04-30  ...    0    0    0    0    0    0    0    0    0    0  \n",
       "1995-05-31  ...    0    0    0    0    0    0    1    0    0    0  \n",
       "1995-06-30  ...    0    0    0    0    1    0    0    0    0    0  \n",
       "1995-07-31  ...    0    0    0    1    0    0    0    0    0    0  \n",
       "1995-08-31  ...    0    0    0    0    0    0    0    0    0    0  \n",
       "1995-09-30  ...    0    0    0    0    0    0    0    0    0    1  \n",
       "1995-10-31  ...    0    0    0    0    0    0    0    0    1    0  \n",
       "1995-11-30  ...    0    0    0    0    0    0    0    1    0    0  \n",
       "1995-12-31  ...    1    0    0    0    0    0    0    0    0    0  \n",
       "\n",
       "[12 rows x 21 columns]"
      ]
     },
     "execution_count": 11,
     "metadata": {},
     "output_type": "execute_result"
    }
   ],
   "source": [
    "#the month count, and month count squared are alreaady existing \n",
    "\n",
    "## Normalize the time features\n",
    "from scipy.stats import zscore\n",
    "dairy.loc[:, ['Month.Count', 'monthNumSqred']] = dairy.loc[:, ['Month.Count', 'monthNumSqred']].apply(zscore)\n",
    "\n",
    "#one hot encode the month data\n",
    "dummies = pd.get_dummies(dairy.loc[:, 'Month'])\n",
    "dairy[list(dummies.columns)] = dummies\n",
    "## Print the head of the data frame to look at the dummy variables.\n",
    "dairy.head(12)"
   ]
  },
  {
   "cell_type": "code",
   "execution_count": 12,
   "metadata": {},
   "outputs": [],
   "source": [
    "## Linear regression for modeling trend and seasonality"
   ]
  },
  {
   "cell_type": "code",
   "execution_count": 13,
   "metadata": {},
   "outputs": [
    {
     "name": "stderr",
     "output_type": "stream",
     "text": [
      "C:\\Users\\h189037\\AppData\\Local\\Continuum\\anaconda3\\lib\\site-packages\\ipykernel_launcher.py:2: FutureWarning: Method .as_matrix will be removed in a future version. Use .values instead.\n",
      "  \n",
      "C:\\Users\\h189037\\AppData\\Local\\Continuum\\anaconda3\\lib\\site-packages\\ipykernel_launcher.py:3: FutureWarning: Method .as_matrix will be removed in a future version. Use .values instead.\n",
      "  This is separate from the ipykernel package so we can avoid doing imports until\n"
     ]
    }
   ],
   "source": [
    "import sklearn.linear_model as lm\n",
    "X = dairy.loc[:'2012-12-31', ['Month.Count', 'monthNumSqred', 'Jan', 'Feb', 'Mar', 'Apr', 'May', 'Jun', 'Jul', 'Aug', 'Sep', 'Oct', 'Nov', 'Dec']].as_matrix()\n",
    "Y = dairy.loc[:'2012-12-31', 'Milk.Prod'].as_matrix()\n",
    "lm_mod = lm.LinearRegression(fit_intercept = False)\n",
    "mod_fit = lm_mod.fit(X, Y)\n",
    "\n",
    "## and the predictions and the residual\n",
    "dairy.loc[:'2012-12-31', 'scores'] = mod_fit.predict(X)\n",
    "dairy.loc[:'2012-12-31', 'resids'] = dairy.loc[:'2012-12-31', 'scores'] - dairy.loc[:'2012-12-31', 'Milk.Prod']"
   ]
  },
  {
   "cell_type": "code",
   "execution_count": 14,
   "metadata": {},
   "outputs": [
    {
     "data": {
      "image/png": "[encoded data removed]",
      "text/plain": [
       "<Figure size 576x360 with 1 Axes>"
      ]
     },
     "metadata": {
      "needs_background": "light"
     },
     "output_type": "display_data"
    }
   ],
   "source": [
    "def plot_mod_fit(df, col):\n",
    "    import matplotlib.pyplot as plt\n",
    "    fig = plt.figure(figsize=(8, 5)) # set plot area\n",
    "    ax = fig.gca() # define axis  \n",
    "    df.loc[:, col].plot(color = 'r', ax = ax, label = 'actual')\n",
    "    df.loc[:, 'scores'].plot(ax = ax, label = 'prediction') \n",
    "    ax.set_title('Actual ' + col + 'vs. the predicted values') # Give the plot a main title\n",
    "    ax.set_xlabel('Date') # Set text for the x axis\n",
    "    ax.set_ylabel(col)# Set text for y axis\n",
    "    ax.legend()\n",
    "plot_mod_fit(dairy, 'Milk.Prod') "
   ]
  },
  {
   "cell_type": "code",
   "execution_count": 15,
   "metadata": {},
   "outputs": [
    {
     "name": "stderr",
     "output_type": "stream",
     "text": [
      "C:\\Users\\h189037\\AppData\\Local\\Continuum\\anaconda3\\lib\\site-packages\\ipykernel_launcher.py:6: FutureWarning: Method .as_matrix will be removed in a future version. Use .values instead.\n",
      "  \n",
      "C:\\Users\\h189037\\AppData\\Local\\Continuum\\anaconda3\\lib\\site-packages\\ipykernel_launcher.py:7: FutureWarning: Method .as_matrix will be removed in a future version. Use .values instead.\n",
      "  import sys\n"
     ]
    },
    {
     "data": {
      "text/plain": [
       "0.2770949465587891"
      ]
     },
     "execution_count": 15,
     "metadata": {},
     "output_type": "execute_result"
    }
   ],
   "source": [
    "def RMSE(ts, score):\n",
    "    from math import sqrt\n",
    "    return sqrt(np.std(ts - score))\n",
    "\n",
    "## Make the forecast for the next year\n",
    "X = dairy.loc['2012-12-31':, ['Month.Count', 'monthNumSqred', 'Jan', 'Feb', 'Mar', 'Apr', 'May', 'Jun', 'Jul', 'Aug', 'Sep', 'Oct', 'Nov', 'Dec']].as_matrix()\n",
    "RMSE(dairy.loc['2012-12-31':, 'Milk.Prod'].as_matrix(), mod_fit.predict(X))"
   ]
  },
  {
   "cell_type": "code",
   "execution_count": 16,
   "metadata": {},
   "outputs": [],
   "source": [
    "## ARMA model for modelling residuals"
   ]
  },
  {
   "cell_type": "code",
   "execution_count": 17,
   "metadata": {},
   "outputs": [
    {
     "name": "stdout",
     "output_type": "stream",
     "text": [
      "Testing model of order: (0, 0, 1) with BIC = -600.0720719045119\n",
      "Testing model of order: (0, 0, 2) with BIC = -657.9125674907232\n",
      "Testing model of order: (0, 0, 3) with BIC = -679.0489798138024\n",
      "Testing model of order: (0, 0, 4) with BIC = -677.6806661479989\n",
      "Testing model of order: (0, 1, 1) with BIC = -699.2105747510793\n",
      "Testing model of order: (0, 1, 2) with BIC = -693.9440060216697\n",
      "Testing model of order: (0, 1, 3) with BIC = -691.9915766487177\n",
      "Testing model of order: (0, 1, 4) with BIC = -688.4873819618588\n",
      "Testing model of order: (0, 2, 1) with BIC = -683.0743799730338\n",
      "Testing model of order: (1, 0, 0) with BIC = -713.3801093259676\n",
      "Testing model of order: (1, 0, 1) with BIC = -709.6935946484266\n",
      "Testing model of order: (1, 0, 2) with BIC = -706.6130113446088\n",
      "Testing model of order: (1, 0, 3) with BIC = -701.3441225090121\n",
      "Testing model of order: (1, 0, 4) with BIC = -695.9861103313758\n",
      "Testing model of order: (1, 1, 0) with BIC = -699.461487126154\n",
      "Testing model of order: (1, 1, 1) with BIC = -694.1523253679239\n",
      "Testing model of order: (1, 2, 0) with BIC = -599.7583779393802\n",
      "Testing model of order: (1, 2, 1) with BIC = -684.234415222735\n",
      "Testing model of order: (1, 2, 2) with BIC = -678.9591691228384\n",
      "Testing model of order: (1, 2, 3) with BIC = -674.6060557470588\n",
      "Testing model of order: (1, 2, 4) with BIC = -670.1970372200328\n",
      "Testing model of order: (2, 0, 0) with BIC = -710.073488160031\n",
      "Testing model of order: (2, 0, 1) with BIC = -705.2983700289983\n",
      "Testing model of order: (2, 0, 2) with BIC = -701.2923973499976\n",
      "Testing model of order: (2, 0, 3) with BIC = -698.9526641868779\n",
      "Testing model of order: (2, 0, 4) with BIC = -695.5577034554663\n",
      "Testing model of order: (2, 1, 0) with BIC = -694.1384149875142\n",
      "Testing model of order: (2, 1, 1) with BIC = -688.7817575254421\n",
      "Testing model of order: (2, 1, 2) with BIC = -693.9815523200855\n",
      "Testing model of order: (2, 2, 0) with BIC = -620.4569483373829\n",
      "Testing model of order: (2, 2, 1) with BIC = -678.9458697538751\n",
      "Testing model of order: (2, 2, 2) with BIC = -676.2199673213123\n",
      "Testing model of order: (2, 2, 3) with BIC = -686.2270059291882\n",
      "Testing model of order: (2, 2, 4) with BIC = -681.1739909609845\n",
      "Testing model of order: (3, 0, 0) with BIC = -706.3135191178196\n",
      "Testing model of order: (3, 0, 1) with BIC = -701.0850315606378\n",
      "Testing model of order: (3, 0, 2) with BIC = -700.7196493857039\n",
      "Testing model of order: (3, 0, 3) with BIC = -696.3479287497316\n",
      "Testing model of order: (3, 0, 4) with BIC = -703.1776557129369\n",
      "Testing model of order: (3, 1, 0) with BIC = -689.075497039227\n",
      "Testing model of order: (3, 1, 1) with BIC = -694.8457029514855\n"
     ]
    },
    {
     "name": "stderr",
     "output_type": "stream",
     "text": [
      "C:\\Users\\h189037\\AppData\\Local\\Continuum\\anaconda3\\lib\\site-packages\\statsmodels\\base\\model.py:488: HessianInversionWarning: Inverting hessian failed, no bse or cov_params available\n",
      "  'available', HessianInversionWarning)\n"
     ]
    },
    {
     "name": "stdout",
     "output_type": "stream",
     "text": [
      "Testing model of order: (3, 1, 2) with BIC = -681.5861799794155\n",
      "Testing model of order: (3, 1, 3) with BIC = -689.0352335656075\n",
      "Testing model of order: (3, 2, 0) with BIC = -621.2269531455477\n",
      "Testing model of order: (3, 2, 1) with BIC = -673.8258408805333\n",
      "Testing model of order: (3, 2, 2) with BIC = -673.4470483514344\n",
      "Testing model of order: (3, 2, 3) with BIC = -681.1716864927645\n",
      "Testing model of order: (3, 2, 4) with BIC = -681.4261563257406\n",
      "Testing model of order: (4, 0, 0) with BIC = -701.2832154890364\n"
     ]
    },
    {
     "name": "stderr",
     "output_type": "stream",
     "text": [
      "C:\\Users\\h189037\\AppData\\Local\\Continuum\\anaconda3\\lib\\site-packages\\statsmodels\\tsa\\tsatools.py:607: RuntimeWarning: invalid value encountered in true_divide\n",
      "  (1+np.exp(-params))).copy()\n",
      "C:\\Users\\h189037\\AppData\\Local\\Continuum\\anaconda3\\lib\\site-packages\\statsmodels\\tsa\\tsatools.py:609: RuntimeWarning: invalid value encountered in true_divide\n",
      "  (1+np.exp(-params))).copy()\n"
     ]
    },
    {
     "name": "stdout",
     "output_type": "stream",
     "text": [
      "Testing model of order: (4, 0, 2) with BIC = -707.8014060892349\n"
     ]
    },
    {
     "name": "stderr",
     "output_type": "stream",
     "text": [
      "C:\\Users\\h189037\\AppData\\Local\\Continuum\\anaconda3\\lib\\site-packages\\statsmodels\\tsa\\tsatools.py:650: RuntimeWarning: invalid value encountered in true_divide\n",
      "  newparams = ((1-np.exp(-params))/(1+np.exp(-params))).copy()\n",
      "C:\\Users\\h189037\\AppData\\Local\\Continuum\\anaconda3\\lib\\site-packages\\statsmodels\\tsa\\tsatools.py:651: RuntimeWarning: invalid value encountered in true_divide\n",
      "  tmp = ((1-np.exp(-params))/(1+np.exp(-params))).copy()\n"
     ]
    },
    {
     "name": "stdout",
     "output_type": "stream",
     "text": [
      "Testing model of order: (4, 0, 4) with BIC = -701.3562836411197\n",
      "Testing model of order: (4, 1, 0) with BIC = -688.8177674925919\n",
      "Testing model of order: (4, 1, 1) with BIC = -691.9897406172973\n",
      "Testing model of order: (4, 1, 2) with BIC = -691.1427840206441\n",
      "Testing model of order: (4, 1, 3) with BIC = -696.4059455799543\n"
     ]
    },
    {
     "name": "stderr",
     "output_type": "stream",
     "text": [
      "C:\\Users\\h189037\\AppData\\Local\\Continuum\\anaconda3\\lib\\site-packages\\statsmodels\\base\\model.py:508: ConvergenceWarning: Maximum Likelihood optimization failed to converge. Check mle_retvals\n",
      "  \"Check mle_retvals\", ConvergenceWarning)\n"
     ]
    },
    {
     "name": "stdout",
     "output_type": "stream",
     "text": [
      "Testing model of order: (4, 1, 4) with BIC = -683.8236543609254\n",
      "Testing model of order: (4, 2, 0) with BIC = -643.3187152183076\n",
      "Testing model of order: (4, 2, 1) with BIC = -673.3243489276965\n",
      "Testing model of order: (4, 2, 2) with BIC = -676.5704244852064\n",
      "Testing model of order: (4, 2, 3) with BIC = -675.9852466603301\n",
      "Testing model of order: (4, 2, 4) with BIC = -676.5431638642362\n",
      "Best order = (1, 0, 0) best BIC = -713.3801093259676\n"
     ]
    },
    {
     "name": "stderr",
     "output_type": "stream",
     "text": [
      "C:\\Users\\h189037\\AppData\\Local\\Continuum\\anaconda3\\lib\\site-packages\\statsmodels\\base\\model.py:488: HessianInversionWarning: Inverting hessian failed, no bse or cov_params available\n",
      "  'available', HessianInversionWarning)\n"
     ]
    }
   ],
   "source": [
    "BIC, order, model_fit = step_ARIMA(dairy.loc[:'2012-12-31', 'resids'], 4, 4, 4)    \n",
    "print('Best order = ' + str(order) + ' best BIC = ' + str(BIC))"
   ]
  },
  {
   "cell_type": "code",
   "execution_count": 18,
   "metadata": {},
   "outputs": [
    {
     "name": "stderr",
     "output_type": "stream",
     "text": [
      "C:\\Users\\h189037\\AppData\\Local\\Continuum\\anaconda3\\lib\\site-packages\\statsmodels\\tsa\\base\\tsa_model.py:320: FutureWarning: Creating a DatetimeIndex by passing range endpoints is deprecated.  Use `pandas.date_range` instead.\n",
      "  freq=base_index.freq)\n"
     ]
    },
    {
     "data": {
      "text/plain": [
       "2013-01-31    0.051813\n",
       "2013-02-28    0.043083\n",
       "2013-03-31    0.035825\n",
       "2013-04-30    0.029789\n",
       "2013-05-31    0.024770\n",
       "2013-06-30    0.020597\n",
       "2013-07-31    0.017127\n",
       "2013-08-31    0.014241\n",
       "2013-09-30    0.011842\n",
       "2013-10-31    0.009847\n",
       "2013-11-30    0.008188\n",
       "2013-12-31    0.006808\n",
       "2014-01-31    0.005661\n",
       "Freq: M, dtype: float64"
      ]
     },
     "execution_count": 18,
     "metadata": {},
     "output_type": "execute_result"
    }
   ],
   "source": [
    "start_index = len(dairy.loc[:'2012-12-31', 'resids'])\n",
    "end_index = start_index + 12\n",
    "model_prediction = model_fit.predict(start=start_index, end=end_index)\n",
    "model_prediction"
   ]
  },
  {
   "cell_type": "code",
   "execution_count": 25,
   "metadata": {},
   "outputs": [
    {
     "name": "stderr",
     "output_type": "stream",
     "text": [
      "C:\\Users\\h189037\\AppData\\Local\\Continuum\\anaconda3\\lib\\site-packages\\ipykernel_launcher.py:2: FutureWarning: Method .as_matrix will be removed in a future version. Use .values instead.\n",
      "  \n"
     ]
    }
   ],
   "source": [
    "## Make the forecast for the next year\n",
    "X = dairy.loc['2012-12-31':, ['Month.Count', 'monthNumSqred', 'Jan', 'Feb', 'Mar', 'Apr', 'May', 'Jun', 'Jul', 'Aug', 'Sep', 'Oct', 'Nov', 'Dec']].as_matrix()\n",
    "## and the predictions for the forecast\n",
    "dairy.loc['2012-12-31':, 'scores'] =  mod_fit.predict(X) + model_prediction"
   ]
  },
  {
   "cell_type": "code",
   "execution_count": 26,
   "metadata": {},
   "outputs": [
    {
     "data": {
      "image/png": "[encoded data removed]",
      "text/plain": [
       "<Figure size 576x360 with 1 Axes>"
      ]
     },
     "metadata": {
      "needs_background": "light"
     },
     "output_type": "display_data"
    }
   ],
   "source": [
    "plot_mod_fit(dairy, 'Milk.Prod') "
   ]
  },
  {
   "cell_type": "code",
   "execution_count": 27,
   "metadata": {},
   "outputs": [
    {
     "name": "stderr",
     "output_type": "stream",
     "text": [
      "C:\\Users\\h189037\\AppData\\Local\\Continuum\\anaconda3\\lib\\site-packages\\ipykernel_launcher.py:1: FutureWarning: Method .as_matrix will be removed in a future version. Use .values instead.\n",
      "  \"\"\"Entry point for launching an IPython kernel.\n"
     ]
    },
    {
     "data": {
      "text/plain": [
       "0.4242102350256551"
      ]
     },
     "execution_count": 27,
     "metadata": {},
     "output_type": "execute_result"
    }
   ],
   "source": [
    "RMSE(dairy.loc['2012-12-31':, 'Milk.Prod'].as_matrix(), dairy.loc['2012-12-31':, 'scores'])"
   ]
  },
  {
   "cell_type": "code",
   "execution_count": null,
   "metadata": {},
   "outputs": [],
   "source": []
  }
 ],
 "metadata": {
  "kernelspec": {
   "display_name": "Python 3",
   "language": "python",
   "name": "python3"
  },
  "language_info": {
   "codemirror_mode": {
    "name": "ipython",
    "version": 3
   },
   "file_extension": ".py",
   "mimetype": "text/x-python",
   "name": "python",
   "nbconvert_exporter": "python",
   "pygments_lexer": "ipython3",
   "version": "3.7.3"
  }
 },
 "nbformat": 4,
 "nbformat_minor": 1
}
