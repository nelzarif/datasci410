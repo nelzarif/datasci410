{
 "cells": [
  {
   "cell_type": "markdown",
   "metadata": {},
   "source": [
    "# Lesson 3 Assignment - Monty Hall Simulation\n",
    "## Author - Nourhan El Zarif"
   ]
  },
  {
   "cell_type": "markdown",
   "metadata": {},
   "source": [
    "### Instructions\n",
    "Simulate the conditional probabilities of the distributions for winning a car vs. a goat for the Monty Hall Problem that includes the following:\n",
    "1. the cases for switching or not switching\n",
    "2. histograms and summary statistics (at least mean and variance) of the results for winning the car or a goat for both strategies: switching or not switching\n",
    "3. comparison of the cases to determine the best strategy\n",
    "4. recommended strategy\n",
    "\n"
   ]
  },
  {
   "cell_type": "markdown",
   "metadata": {},
   "source": [
    "#### Note: \n",
    "Please clearly outline the results and your recommendation with markdown text. Be sure your discussion includes narrative for your figures and tables so it is clear to the reader the importance of each bit of evidence."
   ]
  },
  {
   "cell_type": "markdown",
   "metadata": {},
   "source": [
    "## Distribution Type for Monty Hall\n",
    "\n",
    "The problem presented to us represents a Bernouli Distribution, a binary discrete output. We either win a car, or a goat. \n",
    "We can represent the car as x = 1, and the goat as x = 0. The probability of getting a car is p = 1/3. \n",
    "\n",
    "## Importing libraries"
   ]
  },
  {
   "cell_type": "code",
   "execution_count": 1,
   "metadata": {},
   "outputs": [],
   "source": [
    "# Import libraries\n",
    "import numpy\n",
    "import pandas as pd\n",
    "from matplotlib import pyplot as plt\n",
    "\n",
    "%matplotlib inline"
   ]
  },
  {
   "cell_type": "markdown",
   "metadata": {},
   "source": [
    "## Putting the Prizes Behind the Doors\n",
    "\n",
    "Realistically, producers of the show would place the prizes behind the doors before the contestant picks a door. "
   ]
  },
  {
   "cell_type": "code",
   "execution_count": 2,
   "metadata": {},
   "outputs": [
    {
     "data": {
      "text/html": [
       "<div>\n",
       "<style scoped>\n",
       "    .dataframe tbody tr th:only-of-type {\n",
       "        vertical-align: middle;\n",
       "    }\n",
       "\n",
       "    .dataframe tbody tr th {\n",
       "        vertical-align: top;\n",
       "    }\n",
       "\n",
       "    .dataframe thead th {\n",
       "        text-align: right;\n",
       "    }\n",
       "</style>\n",
       "<table border=\"1\" class=\"dataframe\">\n",
       "  <thead>\n",
       "    <tr style=\"text-align: right;\">\n",
       "      <th></th>\n",
       "      <th>car_door</th>\n",
       "    </tr>\n",
       "  </thead>\n",
       "  <tbody>\n",
       "    <tr>\n",
       "      <th>0</th>\n",
       "      <td>1</td>\n",
       "    </tr>\n",
       "    <tr>\n",
       "      <th>1</th>\n",
       "      <td>0</td>\n",
       "    </tr>\n",
       "    <tr>\n",
       "      <th>2</th>\n",
       "      <td>2</td>\n",
       "    </tr>\n",
       "    <tr>\n",
       "      <th>3</th>\n",
       "      <td>0</td>\n",
       "    </tr>\n",
       "    <tr>\n",
       "      <th>4</th>\n",
       "      <td>0</td>\n",
       "    </tr>\n",
       "  </tbody>\n",
       "</table>\n",
       "</div>"
      ],
      "text/plain": [
       "   car_door\n",
       "0         1\n",
       "1         0\n",
       "2         2\n",
       "3         0\n",
       "4         0"
      ]
     },
     "execution_count": 2,
     "metadata": {},
     "output_type": "execute_result"
    }
   ],
   "source": [
    "# this function creates a data frame that represents putting prizes behind each door, n times\n",
    "def doorsSetUp(n):\n",
    "    #creating a matrix of zeros\n",
    "    doors_matrix = numpy.zeros(n, dtype=int)\n",
    "    \n",
    "    #the car will be placed behind a door randomly, it is reprsented as 1\n",
    "    for i in range(n):\n",
    "        doors_matrix[i] = numpy.random.randint(3)\n",
    "    \n",
    "    #we will put all this in a dataframe\n",
    "    doors = pd.DataFrame(doors_matrix, columns = ['car_door'])\n",
    "    \n",
    "    return doors\n",
    "\n",
    "\n",
    "#number of realizations: we're testing the choice 10,000 times \n",
    "n = 10000\n",
    "doors = doorsSetUp(n)\n",
    "doors.head()"
   ]
  },
  {
   "cell_type": "markdown",
   "metadata": {},
   "source": [
    "## Contestant First Pick\n",
    "\n",
    "The Contestant will randomly pick a door."
   ]
  },
  {
   "cell_type": "code",
   "execution_count": 3,
   "metadata": {},
   "outputs": [
    {
     "data": {
      "text/html": [
       "<div>\n",
       "<style scoped>\n",
       "    .dataframe tbody tr th:only-of-type {\n",
       "        vertical-align: middle;\n",
       "    }\n",
       "\n",
       "    .dataframe tbody tr th {\n",
       "        vertical-align: top;\n",
       "    }\n",
       "\n",
       "    .dataframe thead th {\n",
       "        text-align: right;\n",
       "    }\n",
       "</style>\n",
       "<table border=\"1\" class=\"dataframe\">\n",
       "  <thead>\n",
       "    <tr style=\"text-align: right;\">\n",
       "      <th></th>\n",
       "      <th>car_door</th>\n",
       "      <th>first_pick</th>\n",
       "    </tr>\n",
       "  </thead>\n",
       "  <tbody>\n",
       "    <tr>\n",
       "      <th>0</th>\n",
       "      <td>1</td>\n",
       "      <td>2</td>\n",
       "    </tr>\n",
       "    <tr>\n",
       "      <th>1</th>\n",
       "      <td>0</td>\n",
       "      <td>0</td>\n",
       "    </tr>\n",
       "    <tr>\n",
       "      <th>2</th>\n",
       "      <td>2</td>\n",
       "      <td>2</td>\n",
       "    </tr>\n",
       "    <tr>\n",
       "      <th>3</th>\n",
       "      <td>0</td>\n",
       "      <td>0</td>\n",
       "    </tr>\n",
       "    <tr>\n",
       "      <th>4</th>\n",
       "      <td>0</td>\n",
       "      <td>2</td>\n",
       "    </tr>\n",
       "  </tbody>\n",
       "</table>\n",
       "</div>"
      ],
      "text/plain": [
       "   car_door  first_pick\n",
       "0         1           2\n",
       "1         0           0\n",
       "2         2           2\n",
       "3         0           0\n",
       "4         0           2"
      ]
     },
     "execution_count": 3,
     "metadata": {},
     "output_type": "execute_result"
    }
   ],
   "source": [
    "#this function creates an array (of length n) of random ints from value [0,2]\n",
    "def firstPick(n):\n",
    "    return numpy.random.randint(3, size = n)\n",
    "\n",
    "doors['first_pick']=firstPick(n)\n",
    "\n",
    "doors.head()"
   ]
  },
  {
   "cell_type": "code",
   "execution_count": 4,
   "metadata": {},
   "outputs": [
    {
     "data": {
      "text/plain": [
       "Text(0.5, 0, 'Door Number')"
      ]
     },
     "execution_count": 4,
     "metadata": {},
     "output_type": "execute_result"
    },
    {
     "data": {
      "image/png": "[encoded data removed]",
      "text/plain": [
       "<Figure size 432x432 with 1 Axes>"
      ]
     },
     "metadata": {
      "needs_background": "light"
     },
     "output_type": "display_data"
    }
   ],
   "source": [
    "#I will plot  a hist of first picks \n",
    "ax = plt.figure(figsize = (6,6)).gca()\n",
    "doors.loc[:, 'first_pick'].hist(ax=ax)\n",
    "ax.set_title('First Door Picked Frequency') \n",
    "ax.set_ylabel('Frequency')\n",
    "ax.set_xlabel('Door Number')"
   ]
  },
  {
   "cell_type": "markdown",
   "metadata": {},
   "source": [
    "This histogram shows that the contestant's choice of a door is uniform. \n",
    "\n",
    "### Checking if the Contestant's First Pick is a Car\n",
    "This step will help us determine which door Monty will have to open."
   ]
  },
  {
   "cell_type": "code",
   "execution_count": 5,
   "metadata": {},
   "outputs": [
    {
     "data": {
      "text/html": [
       "<div>\n",
       "<style scoped>\n",
       "    .dataframe tbody tr th:only-of-type {\n",
       "        vertical-align: middle;\n",
       "    }\n",
       "\n",
       "    .dataframe tbody tr th {\n",
       "        vertical-align: top;\n",
       "    }\n",
       "\n",
       "    .dataframe thead th {\n",
       "        text-align: right;\n",
       "    }\n",
       "</style>\n",
       "<table border=\"1\" class=\"dataframe\">\n",
       "  <thead>\n",
       "    <tr style=\"text-align: right;\">\n",
       "      <th></th>\n",
       "      <th>car_door</th>\n",
       "      <th>first_pick</th>\n",
       "      <th>firstPickIsCar</th>\n",
       "    </tr>\n",
       "  </thead>\n",
       "  <tbody>\n",
       "    <tr>\n",
       "      <th>0</th>\n",
       "      <td>1</td>\n",
       "      <td>2</td>\n",
       "      <td>0</td>\n",
       "    </tr>\n",
       "    <tr>\n",
       "      <th>1</th>\n",
       "      <td>0</td>\n",
       "      <td>0</td>\n",
       "      <td>1</td>\n",
       "    </tr>\n",
       "    <tr>\n",
       "      <th>2</th>\n",
       "      <td>2</td>\n",
       "      <td>2</td>\n",
       "      <td>1</td>\n",
       "    </tr>\n",
       "    <tr>\n",
       "      <th>3</th>\n",
       "      <td>0</td>\n",
       "      <td>0</td>\n",
       "      <td>1</td>\n",
       "    </tr>\n",
       "    <tr>\n",
       "      <th>4</th>\n",
       "      <td>0</td>\n",
       "      <td>2</td>\n",
       "      <td>0</td>\n",
       "    </tr>\n",
       "  </tbody>\n",
       "</table>\n",
       "</div>"
      ],
      "text/plain": [
       "   car_door  first_pick  firstPickIsCar\n",
       "0         1           2               0\n",
       "1         0           0               1\n",
       "2         2           2               1\n",
       "3         0           0               1\n",
       "4         0           2               0"
      ]
     },
     "execution_count": 5,
     "metadata": {},
     "output_type": "execute_result"
    }
   ],
   "source": [
    "winningDoor = numpy.zeros(n, dtype = int)\n",
    "#Did the contestant choose the door with the car?\n",
    "for r in range(n):\n",
    "    winningDoor[r] = (doors.loc[r, 'car_door'] == doors.loc[r, 'first_pick'])\n",
    "\n",
    "doors['firstPickIsCar'] = winningDoor\n",
    "doors.head()\n"
   ]
  },
  {
   "cell_type": "markdown",
   "metadata": {},
   "source": [
    "## Monty Opens \n",
    "\n",
    "Monty will open one of the doors that has a goat. This will happen in two ways:\n",
    "\n",
    "1. If the first pick was a goat, that leaves Monty with one option. That option is opening the door that has the other goat.\n",
    "\n",
    "2. If the first pick was a car, Monty will have two doors with goats as options. He will then choose one of the two doors randomly. "
   ]
  },
  {
   "cell_type": "code",
   "execution_count": 6,
   "metadata": {},
   "outputs": [
    {
     "data": {
      "text/html": [
       "<div>\n",
       "<style scoped>\n",
       "    .dataframe tbody tr th:only-of-type {\n",
       "        vertical-align: middle;\n",
       "    }\n",
       "\n",
       "    .dataframe tbody tr th {\n",
       "        vertical-align: top;\n",
       "    }\n",
       "\n",
       "    .dataframe thead th {\n",
       "        text-align: right;\n",
       "    }\n",
       "</style>\n",
       "<table border=\"1\" class=\"dataframe\">\n",
       "  <thead>\n",
       "    <tr style=\"text-align: right;\">\n",
       "      <th></th>\n",
       "      <th>car_door</th>\n",
       "      <th>first_pick</th>\n",
       "      <th>firstPickIsCar</th>\n",
       "      <th>monty_opens</th>\n",
       "    </tr>\n",
       "  </thead>\n",
       "  <tbody>\n",
       "    <tr>\n",
       "      <th>0</th>\n",
       "      <td>1</td>\n",
       "      <td>2</td>\n",
       "      <td>0</td>\n",
       "      <td>0</td>\n",
       "    </tr>\n",
       "    <tr>\n",
       "      <th>1</th>\n",
       "      <td>0</td>\n",
       "      <td>0</td>\n",
       "      <td>1</td>\n",
       "      <td>2</td>\n",
       "    </tr>\n",
       "    <tr>\n",
       "      <th>2</th>\n",
       "      <td>2</td>\n",
       "      <td>2</td>\n",
       "      <td>1</td>\n",
       "      <td>1</td>\n",
       "    </tr>\n",
       "    <tr>\n",
       "      <th>3</th>\n",
       "      <td>0</td>\n",
       "      <td>0</td>\n",
       "      <td>1</td>\n",
       "      <td>1</td>\n",
       "    </tr>\n",
       "    <tr>\n",
       "      <th>4</th>\n",
       "      <td>0</td>\n",
       "      <td>2</td>\n",
       "      <td>0</td>\n",
       "      <td>1</td>\n",
       "    </tr>\n",
       "  </tbody>\n",
       "</table>\n",
       "</div>"
      ],
      "text/plain": [
       "   car_door  first_pick  firstPickIsCar  monty_opens\n",
       "0         1           2               0            0\n",
       "1         0           0               1            2\n",
       "2         2           2               1            1\n",
       "3         0           0               1            1\n",
       "4         0           2               0            1"
      ]
     },
     "execution_count": 6,
     "metadata": {},
     "output_type": "execute_result"
    }
   ],
   "source": [
    "#this will be the array that holds the door number that monty  opens\n",
    "montyChoice = numpy.zeros(n, dtype = int)\n",
    "\n",
    "for r in range(n):\n",
    "    #this array holds all the possible doors to open\n",
    "    #we will eliminate the doors monty can't open\n",
    "    doorsArray = [0, 1, 2]\n",
    "    \n",
    "    #if we picked a goat\n",
    "    if (doors.loc[r,'firstPickIsCar'] == 0):\n",
    "        doorsArray.remove(doors.loc[r, 'first_pick'])\n",
    "        doorsArray.remove(doors.loc[r, 'car_door'])\n",
    "        montyChoice[r] = doorsArray[0]\n",
    "    \n",
    "    #if we picked the car\n",
    "    else:\n",
    "        doorsArray.remove(doors.loc[r, 'first_pick'])\n",
    "        montyChoice[r] = doorsArray[numpy.random.randint(2)]\n",
    "\n",
    "\n",
    "\n",
    "doors['monty_opens'] = montyChoice\n",
    "doors.head()"
   ]
  },
  {
   "cell_type": "markdown",
   "metadata": {},
   "source": [
    "Now the contestant will have to make the choice of sticking with the first pick, or swithcing doors. \n",
    "\n",
    "\n",
    "## Case 1: Not Switching\n",
    "\n",
    "If the contest does not switch, the result is the same from what was computed earlier. "
   ]
  },
  {
   "cell_type": "code",
   "execution_count": 7,
   "metadata": {},
   "outputs": [
    {
     "data": {
      "text/html": [
       "<div>\n",
       "<style scoped>\n",
       "    .dataframe tbody tr th:only-of-type {\n",
       "        vertical-align: middle;\n",
       "    }\n",
       "\n",
       "    .dataframe tbody tr th {\n",
       "        vertical-align: top;\n",
       "    }\n",
       "\n",
       "    .dataframe thead th {\n",
       "        text-align: right;\n",
       "    }\n",
       "</style>\n",
       "<table border=\"1\" class=\"dataframe\">\n",
       "  <thead>\n",
       "    <tr style=\"text-align: right;\">\n",
       "      <th></th>\n",
       "      <th>car_door</th>\n",
       "      <th>first_pick</th>\n",
       "      <th>firstPickIsCar</th>\n",
       "      <th>monty_opens</th>\n",
       "      <th>not_switching_result</th>\n",
       "    </tr>\n",
       "  </thead>\n",
       "  <tbody>\n",
       "    <tr>\n",
       "      <th>0</th>\n",
       "      <td>1</td>\n",
       "      <td>2</td>\n",
       "      <td>0</td>\n",
       "      <td>0</td>\n",
       "      <td>0</td>\n",
       "    </tr>\n",
       "    <tr>\n",
       "      <th>1</th>\n",
       "      <td>0</td>\n",
       "      <td>0</td>\n",
       "      <td>1</td>\n",
       "      <td>2</td>\n",
       "      <td>1</td>\n",
       "    </tr>\n",
       "    <tr>\n",
       "      <th>2</th>\n",
       "      <td>2</td>\n",
       "      <td>2</td>\n",
       "      <td>1</td>\n",
       "      <td>1</td>\n",
       "      <td>1</td>\n",
       "    </tr>\n",
       "    <tr>\n",
       "      <th>3</th>\n",
       "      <td>0</td>\n",
       "      <td>0</td>\n",
       "      <td>1</td>\n",
       "      <td>1</td>\n",
       "      <td>1</td>\n",
       "    </tr>\n",
       "    <tr>\n",
       "      <th>4</th>\n",
       "      <td>0</td>\n",
       "      <td>2</td>\n",
       "      <td>0</td>\n",
       "      <td>1</td>\n",
       "      <td>0</td>\n",
       "    </tr>\n",
       "  </tbody>\n",
       "</table>\n",
       "</div>"
      ],
      "text/plain": [
       "   car_door  first_pick  firstPickIsCar  monty_opens  not_switching_result\n",
       "0         1           2               0            0                     0\n",
       "1         0           0               1            2                     1\n",
       "2         2           2               1            1                     1\n",
       "3         0           0               1            1                     1\n",
       "4         0           2               0            1                     0"
      ]
     },
     "execution_count": 7,
     "metadata": {},
     "output_type": "execute_result"
    }
   ],
   "source": [
    "doors['not_switching_result'] = doors.loc[:, 'firstPickIsCar']\n",
    "doors.head()"
   ]
  },
  {
   "cell_type": "markdown",
   "metadata": {},
   "source": [
    "### Histogram\n",
    "\n",
    "The histograms shows that the car was NOT won most of the time. The contestant only wins a car about 1/3 of the time. This result is consistant with the probability we expected. "
   ]
  },
  {
   "cell_type": "code",
   "execution_count": 8,
   "metadata": {},
   "outputs": [
    {
     "data": {
      "text/plain": [
       "<matplotlib.axes._subplots.AxesSubplot at 0x17f5faf84e0>"
      ]
     },
     "execution_count": 8,
     "metadata": {},
     "output_type": "execute_result"
    },
    {
     "data": {
      "image/png": "[encoded data removed]",
      "text/plain": [
       "<Figure size 432x432 with 1 Axes>"
      ]
     },
     "metadata": {
      "needs_background": "light"
     },
     "output_type": "display_data"
    }
   ],
   "source": [
    "ax = plt.figure(figsize = (6,6)).gca()\n",
    "doors.loc[:, 'not_switching_result'].hist(ax=ax)\n",
    "ax.set_title('Was Car Won by Not Switching Doors?') \n",
    "ax.set_ylabel('Frequency')\n",
    "ax.set_xlabel('Car')\n",
    "\n",
    "doors.loc[:, 'not_switching_result'].hist()"
   ]
  },
  {
   "cell_type": "markdown",
   "metadata": {},
   "source": [
    "### Summary Statistics"
   ]
  },
  {
   "cell_type": "code",
   "execution_count": 9,
   "metadata": {},
   "outputs": [
    {
     "name": "stdout",
     "output_type": "stream",
     "text": [
      "0.3239\n",
      "0.2189887899999802\n"
     ]
    }
   ],
   "source": [
    "#mean\n",
    "print(numpy.mean(doors.loc[:, 'not_switching_result']))\n",
    "\n",
    "#variance\n",
    "print(numpy.var(doors.loc[:, 'not_switching_result']))"
   ]
  },
  {
   "cell_type": "markdown",
   "metadata": {},
   "source": [
    "The simulation's mean, with n = 10000,  is close to 33% as we'd expect.  "
   ]
  },
  {
   "cell_type": "markdown",
   "metadata": {},
   "source": [
    "## Case 2 : Switching\n",
    "Now we need to determine which door the contestant will open if they decide to switch doors."
   ]
  },
  {
   "cell_type": "code",
   "execution_count": 10,
   "metadata": {},
   "outputs": [
    {
     "data": {
      "text/html": [
       "<div>\n",
       "<style scoped>\n",
       "    .dataframe tbody tr th:only-of-type {\n",
       "        vertical-align: middle;\n",
       "    }\n",
       "\n",
       "    .dataframe tbody tr th {\n",
       "        vertical-align: top;\n",
       "    }\n",
       "\n",
       "    .dataframe thead th {\n",
       "        text-align: right;\n",
       "    }\n",
       "</style>\n",
       "<table border=\"1\" class=\"dataframe\">\n",
       "  <thead>\n",
       "    <tr style=\"text-align: right;\">\n",
       "      <th></th>\n",
       "      <th>car_door</th>\n",
       "      <th>first_pick</th>\n",
       "      <th>firstPickIsCar</th>\n",
       "      <th>monty_opens</th>\n",
       "      <th>not_switching_result</th>\n",
       "      <th>switching_door</th>\n",
       "      <th>switching_result</th>\n",
       "    </tr>\n",
       "  </thead>\n",
       "  <tbody>\n",
       "    <tr>\n",
       "      <th>0</th>\n",
       "      <td>1</td>\n",
       "      <td>2</td>\n",
       "      <td>0</td>\n",
       "      <td>0</td>\n",
       "      <td>0</td>\n",
       "      <td>1</td>\n",
       "      <td>1</td>\n",
       "    </tr>\n",
       "    <tr>\n",
       "      <th>1</th>\n",
       "      <td>0</td>\n",
       "      <td>0</td>\n",
       "      <td>1</td>\n",
       "      <td>2</td>\n",
       "      <td>1</td>\n",
       "      <td>1</td>\n",
       "      <td>0</td>\n",
       "    </tr>\n",
       "    <tr>\n",
       "      <th>2</th>\n",
       "      <td>2</td>\n",
       "      <td>2</td>\n",
       "      <td>1</td>\n",
       "      <td>1</td>\n",
       "      <td>1</td>\n",
       "      <td>0</td>\n",
       "      <td>0</td>\n",
       "    </tr>\n",
       "    <tr>\n",
       "      <th>3</th>\n",
       "      <td>0</td>\n",
       "      <td>0</td>\n",
       "      <td>1</td>\n",
       "      <td>1</td>\n",
       "      <td>1</td>\n",
       "      <td>2</td>\n",
       "      <td>0</td>\n",
       "    </tr>\n",
       "    <tr>\n",
       "      <th>4</th>\n",
       "      <td>0</td>\n",
       "      <td>2</td>\n",
       "      <td>0</td>\n",
       "      <td>1</td>\n",
       "      <td>0</td>\n",
       "      <td>0</td>\n",
       "      <td>1</td>\n",
       "    </tr>\n",
       "  </tbody>\n",
       "</table>\n",
       "</div>"
      ],
      "text/plain": [
       "   car_door  first_pick  firstPickIsCar  monty_opens  not_switching_result  \\\n",
       "0         1           2               0            0                     0   \n",
       "1         0           0               1            2                     1   \n",
       "2         2           2               1            1                     1   \n",
       "3         0           0               1            1                     1   \n",
       "4         0           2               0            1                     0   \n",
       "\n",
       "   switching_door  switching_result  \n",
       "0               1                 1  \n",
       "1               1                 0  \n",
       "2               0                 0  \n",
       "3               2                 0  \n",
       "4               0                 1  "
      ]
     },
     "execution_count": 10,
     "metadata": {},
     "output_type": "execute_result"
    }
   ],
   "source": [
    "#this will be the array that holds the switched door number \n",
    "secondPick = numpy.zeros(n, dtype = int)\n",
    "\n",
    "for r in range(n):\n",
    "    #this array holds all the possible doors to open\n",
    "    #we will eliminate first pick, and the door monty opened\n",
    "    doorsArray = [0, 1, 2]\n",
    "    \n",
    "    doorsArray.remove(doors.loc[r, 'first_pick'])\n",
    "    doorsArray.remove(doors.loc[r, 'monty_opens'])\n",
    "    secondPick[r] = doorsArray[0]\n",
    "    \n",
    "\n",
    "\n",
    "doors['switching_door'] = secondPick\n",
    "\n",
    "\n",
    "doors['switching_result'] = (doors.loc[:,'switching_door'] == doors.loc[:, 'car_door']).astype(int)\n",
    "doors.head()"
   ]
  },
  {
   "cell_type": "markdown",
   "metadata": {},
   "source": [
    "### Histogram\n",
    "\n",
    "This histogram shows the car was won about 2/3 of the time. "
   ]
  },
  {
   "cell_type": "code",
   "execution_count": 11,
   "metadata": {},
   "outputs": [
    {
     "data": {
      "text/plain": [
       "Text(0.5, 0, 'Car')"
      ]
     },
     "execution_count": 11,
     "metadata": {},
     "output_type": "execute_result"
    },
    {
     "data": {
      "image/png": "[encoded data removed]",
      "text/plain": [
       "<Figure size 432x432 with 1 Axes>"
      ]
     },
     "metadata": {
      "needs_background": "light"
     },
     "output_type": "display_data"
    }
   ],
   "source": [
    "ax = plt.figure(figsize = (6,6)).gca()\n",
    "doors.loc[:, 'switching_result'].hist(ax=ax)\n",
    "ax.set_title('Was Car Won by Switching Doors?') \n",
    "ax.set_ylabel('Frequency')\n",
    "ax.set_xlabel('Car')"
   ]
  },
  {
   "cell_type": "markdown",
   "metadata": {},
   "source": [
    "### Summary Statistics"
   ]
  },
  {
   "cell_type": "code",
   "execution_count": 12,
   "metadata": {},
   "outputs": [
    {
     "name": "stdout",
     "output_type": "stream",
     "text": [
      "0.6761\n",
      "0.2189887899999802\n"
     ]
    }
   ],
   "source": [
    "#mean\n",
    "print(numpy.mean(doors.loc[:, 'switching_result']))\n",
    "\n",
    "#variance\n",
    "print(numpy.var(doors.loc[:, 'switching_result']))"
   ]
  },
  {
   "cell_type": "markdown",
   "metadata": {},
   "source": [
    "The simulation's mean, with n = 10000,  is close to 67% as we'd expect. "
   ]
  },
  {
   "cell_type": "markdown",
   "metadata": {},
   "source": [
    "# Conclusion/ Recommended Strategy"
   ]
  },
  {
   "cell_type": "code",
   "execution_count": 13,
   "metadata": {},
   "outputs": [
    {
     "data": {
      "text/plain": [
       "Text(0.5, 1.0, 'Comparison of Winning a Car for Both Strategies')"
      ]
     },
     "execution_count": 13,
     "metadata": {},
     "output_type": "execute_result"
    },
    {
     "data": {
      "image/png": "[encoded data removed]",
      "text/plain": [
       "<Figure size 432x432 with 1 Axes>"
      ]
     },
     "metadata": {
      "needs_background": "light"
     },
     "output_type": "display_data"
    }
   ],
   "source": [
    "ax = plt.figure(figsize=(6,6)).gca()\n",
    "doors[['switching_result', 'not_switching_result']].sum().plot.bar(ax=ax)\n",
    "ax.set_ylabel('Car Won Frequency')\n",
    "ax.set_title('Comparison of Winning a Car for Both Strategies')"
   ]
  },
  {
   "cell_type": "markdown",
   "metadata": {},
   "source": [
    "The bar plot above shows the sum of each strategy's winning results. Switching has resulted in winning a car ~6,600 times. Not switching has resulted in winning a car ~3,400 times. \n",
    "\n",
    "## Recommended Strategy: Switching\n",
    "Based on simulating this 10,000 times, switching doors appears to be the best strategy to win a car."
   ]
  },
  {
   "cell_type": "code",
   "execution_count": null,
   "metadata": {},
   "outputs": [],
   "source": []
  }
 ],
 "metadata": {
  "kernelspec": {
   "display_name": "Python 3",
   "language": "python",
   "name": "python3"
  },
  "language_info": {
   "codemirror_mode": {
    "name": "ipython",
    "version": 3
   },
   "file_extension": ".py",
   "mimetype": "text/x-python",
   "name": "python",
   "nbconvert_exporter": "python",
   "pygments_lexer": "ipython3",
   "version": "3.7.3"
  }
 },
 "nbformat": 4,
 "nbformat_minor": 2
}
