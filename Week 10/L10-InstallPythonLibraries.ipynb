{
 "cells": [
  {
   "cell_type": "markdown",
   "metadata": {},
   "source": [
    "# Install Python Libraries for Lesson 10\n",
    "\n",
    "Here are some additional libraries you may not have installed previously.\n",
    "1. First verify the library is not pre-installed.\n",
    "2. Then install the library via pip within the container."
   ]
  },
  {
   "cell_type": "markdown",
   "metadata": {},
   "source": [
    "Here's an example with the `arrow` package:"
   ]
  },
  {
   "cell_type": "code",
   "execution_count": 1,
   "metadata": {},
   "outputs": [
    {
     "ename": "ModuleNotFoundError",
     "evalue": "No module named 'arrow'",
     "output_type": "error",
     "traceback": [
      "\u001b[1;31m---------------------------------------------------------------------------\u001b[0m",
      "\u001b[1;31mModuleNotFoundError\u001b[0m                       Traceback (most recent call last)",
      "\u001b[1;32m<ipython-input-1-59c3e9d7db5c>\u001b[0m in \u001b[0;36m<module>\u001b[1;34m\u001b[0m\n\u001b[0;32m      1\u001b[0m \u001b[1;31m# try to import a library I knew would be missing to verify it's not pre-installed\u001b[0m\u001b[1;33m\u001b[0m\u001b[1;33m\u001b[0m\u001b[1;33m\u001b[0m\u001b[0m\n\u001b[1;32m----> 2\u001b[1;33m \u001b[1;32mimport\u001b[0m \u001b[0marrow\u001b[0m\u001b[1;33m\u001b[0m\u001b[1;33m\u001b[0m\u001b[0m\n\u001b[0m",
      "\u001b[1;31mModuleNotFoundError\u001b[0m: No module named 'arrow'"
     ]
    }
   ],
   "source": [
    "# try to import a library I knew would be missing to verify it's not pre-installed\n",
    "import arrow"
   ]
  },
  {
   "cell_type": "code",
   "execution_count": 2,
   "metadata": {},
   "outputs": [
    {
     "name": "stdout",
     "output_type": "stream",
     "text": [
      "Collecting arrow\n",
      "  Downloading https://files.pythonhosted.org/packages/a1/39/a8e116084cf4160f0821ca9bb84ec312ccca84caa2b2bffb70d95d47f91f/arrow-0.15.4-py2.py3-none-any.whl (45kB)\n",
      "Requirement already satisfied: python-dateutil in c:\\users\\h189037\\appdata\\local\\continuum\\anaconda3\\lib\\site-packages (from arrow) (2.8.0)\n",
      "Requirement already satisfied: six>=1.5 in c:\\users\\h189037\\appdata\\local\\continuum\\anaconda3\\lib\\site-packages (from python-dateutil->arrow) (1.12.0)\n",
      "Installing collected packages: arrow\n",
      "Successfully installed arrow-0.15.4\n"
     ]
    }
   ],
   "source": [
    "# use the bang ! syntax to install the library via pip within the container\n",
    "!pip install arrow"
   ]
  },
  {
   "cell_type": "code",
   "execution_count": 3,
   "metadata": {},
   "outputs": [],
   "source": [
    "import arrow  # now the import succeeds"
   ]
  },
  {
   "cell_type": "markdown",
   "metadata": {},
   "source": [
    "## LDA Library"
   ]
  },
  {
   "cell_type": "code",
   "execution_count": 4,
   "metadata": {},
   "outputs": [
    {
     "name": "stdout",
     "output_type": "stream",
     "text": [
      "simple-lda (0.3.0)          - Python library for Latent Dirichlet allocation (lda)\n",
      "lda (1.1.0)                 - Topic modeling with latent Dirichlet allocation\n",
      "LDA-final-mz136 (1.5)       - Latent Dirichlet Allocation\n",
      "LDA-project-19 (1.5)        - Latent Dirichlet Allocation\n",
      "qlda (0.1.8)                - Lda-MLOPE\n",
      "tmlib (0.2.2)               - This is a LDA Package\n",
      "LDA-final-project-19 (1.5)  - Latent Dirichlet Allocation\n",
      "xbob.example.lda (1.0.3)    - (Fisher) Iris Flower LDA example\n",
      "pti-analyzer (0.0.19)       - Analyzing articles based on topic model(LDA)\n",
      "rlda (0.61)                 - A module to use robust lda topics for the study of text\n",
      "easyLDA (0.2.8.6)           - easily bult LDA Topic Models with just a list of docs (e.g. a list of twitter posts in CSV/TXT\n"
     ]
    }
   ],
   "source": [
    "!pip search lda"
   ]
  },
  {
   "cell_type": "code",
   "execution_count": 5,
   "metadata": {},
   "outputs": [
    {
     "ename": "ModuleNotFoundError",
     "evalue": "No module named 'lda'",
     "output_type": "error",
     "traceback": [
      "\u001b[1;31m---------------------------------------------------------------------------\u001b[0m",
      "\u001b[1;31mModuleNotFoundError\u001b[0m                       Traceback (most recent call last)",
      "\u001b[1;32m<ipython-input-5-ff680a865002>\u001b[0m in \u001b[0;36m<module>\u001b[1;34m\u001b[0m\n\u001b[1;32m----> 1\u001b[1;33m \u001b[1;32mimport\u001b[0m \u001b[0mlda\u001b[0m\u001b[1;33m\u001b[0m\u001b[1;33m\u001b[0m\u001b[0m\n\u001b[0m",
      "\u001b[1;31mModuleNotFoundError\u001b[0m: No module named 'lda'"
     ]
    }
   ],
   "source": [
    "import lda"
   ]
  },
  {
   "cell_type": "code",
   "execution_count": 6,
   "metadata": {},
   "outputs": [
    {
     "name": "stdout",
     "output_type": "stream",
     "text": [
      "Collecting lda\n",
      "  Downloading https://files.pythonhosted.org/packages/4b/5e/11c73af7335942b9ece20f965271ea632cc26d26d034598502ee4b982251/lda-1.1.0-cp37-cp37m-win_amd64.whl (341kB)\n",
      "Collecting pbr<4,>=0.6 (from lda)\n",
      "  Downloading https://files.pythonhosted.org/packages/0c/5d/b077dbf309993d52c1d71e6bf6fe443a8029ea215135ebbe0b1b10e7aefc/pbr-3.1.1-py2.py3-none-any.whl (99kB)\n",
      "Requirement already satisfied: numpy<2.0,>=1.13.0 in c:\\users\\h189037\\appdata\\local\\continuum\\anaconda3\\lib\\site-packages (from lda) (1.16.2)\n",
      "Installing collected packages: pbr, lda\n",
      "Successfully installed lda-1.1.0 pbr-3.1.1\n"
     ]
    }
   ],
   "source": [
    "!pip install lda"
   ]
  },
  {
   "cell_type": "code",
   "execution_count": 7,
   "metadata": {},
   "outputs": [],
   "source": [
    "import lda"
   ]
  },
  {
   "cell_type": "markdown",
   "metadata": {},
   "source": [
    "## editdistance Library"
   ]
  },
  {
   "cell_type": "code",
   "execution_count": 8,
   "metadata": {},
   "outputs": [
    {
     "ename": "ModuleNotFoundError",
     "evalue": "No module named 'editdistance'",
     "output_type": "error",
     "traceback": [
      "\u001b[1;31m---------------------------------------------------------------------------\u001b[0m",
      "\u001b[1;31mModuleNotFoundError\u001b[0m                       Traceback (most recent call last)",
      "\u001b[1;32m<ipython-input-8-768acb15b586>\u001b[0m in \u001b[0;36m<module>\u001b[1;34m\u001b[0m\n\u001b[1;32m----> 1\u001b[1;33m \u001b[1;32mimport\u001b[0m \u001b[0meditdistance\u001b[0m\u001b[1;33m\u001b[0m\u001b[1;33m\u001b[0m\u001b[0m\n\u001b[0m",
      "\u001b[1;31mModuleNotFoundError\u001b[0m: No module named 'editdistance'"
     ]
    }
   ],
   "source": [
    "import editdistance"
   ]
  },
  {
   "cell_type": "code",
   "execution_count": 9,
   "metadata": {},
   "outputs": [
    {
     "name": "stdout",
     "output_type": "stream",
     "text": [
      "Collecting editdistance\n",
      "  Downloading https://files.pythonhosted.org/packages/5a/21/3178b32699c94aff68239372e30e01b2707f6b5438d8732d4356162fa3b1/editdistance-0.5.3-cp37-cp37m-win_amd64.whl\n",
      "Installing collected packages: editdistance\n",
      "Successfully installed editdistance-0.5.3\n"
     ]
    }
   ],
   "source": [
    "!pip install editdistance"
   ]
  },
  {
   "cell_type": "code",
   "execution_count": 10,
   "metadata": {},
   "outputs": [],
   "source": [
    "import editdistance"
   ]
  },
  {
   "cell_type": "markdown",
   "metadata": {},
   "source": [
    "## nltk Library"
   ]
  },
  {
   "cell_type": "code",
   "execution_count": 11,
   "metadata": {},
   "outputs": [
    {
     "name": "stdout",
     "output_type": "stream",
     "text": [
      "rake-nltk (1.0.4)                - Python implementation of the Rapid Automatic Keyword Extraction algorithm using NLTK\n",
      "nltk (3.4.5)                     - Natural Language Toolkit\n",
      "  INSTALLED: 3.4\n",
      "  LATEST:    3.4.5\n",
      "ko-nltk (0.1)                    - \n",
      "nltkrest (0.12)                  - NLTK as a REST service\n",
      "soyuz (0.0.1)                    - NLTK API with SpaCy models.\n",
      "nltk_tgrep (1.0.6)               - tgrep2 Searching for NLTK Trees\n",
      "cnpt-leos (0.1.1)                - Custom NLTK part of speech tagger\n",
      "lektor-natural-language (0.3.1)  - Adds NLTK based template filters.\n",
      "nltkjsonnlp (0.0.5)              - The Python NLTK JSON-NLP package\n",
      "wordgrapher (0.3.1)              - Word Graph utility built with NLTK and TextBlob\n",
      "FastBLEU (0.0.4)                 - A fast multithreaded C++ implementation of nltk BLEU.\n",
      "bluestocking (0.1.2)             - An information extraction toolkit built on top of NLTK.\n",
      "bookgen (1.0.0)                  - Generates books based on other books using nltk\n",
      "text_operations (0)              - A set of functions that piggyback off nltk to parse text.\n",
      "luvina (0.0.26)                  - High-level API for Natural Language Processing in NLTK\n",
      "SloPOS (1.0)                     - Part of speech tagger for Slovenian (SI) language based on NLTK\n",
      "smart-reading (1.1.6)            - An NLTK-based toolkit aimed at increasing the understanding of various texts.\n",
      "python-pkg (0.0.2)               - Un paquete de NLTK y Scrapy por SEO\n",
      "metanl (0.5.6)                   - Multilingual natural language tools, wrapping NLTK and other systems.\n",
      "pysummarize (0.6.0)              - Simple multi-language Python and NLTK-based implementation of text summarization\n",
      "namextracter (0.0.1)             - A lite library for extracting names from text using nltk wordnet\n",
      "damenltk (0.0.6)                 - Learning about Natural Language Tool Kit (NLTK) from tests\n",
      "namebot (0.1.5)                  - A company/product name generating tool written in Python.Uses NLTK and diverse wordplay techniques forsophisticated word generation and ideation\n",
      "bedrock (0.1.0.dev10)            - Bedrock is a high-level text pre-processing API, written in Python and can run on NLTK or Spacy as its backends.\n",
      "app-reviews-analysis (0.0.4)     - This library, based on NLTK library and sentience.jar package, is designed to help analyze App comment data, and can implement comment feature extraction, comment emotion analysis, comment star and comment emotion correlation analysis, and comment emotion score prediction\n"
     ]
    }
   ],
   "source": [
    "!pip search nltk"
   ]
  },
  {
   "cell_type": "code",
   "execution_count": 12,
   "metadata": {},
   "outputs": [],
   "source": [
    "import nltk"
   ]
  },
  {
   "cell_type": "code",
   "execution_count": 13,
   "metadata": {},
   "outputs": [
    {
     "name": "stdout",
     "output_type": "stream",
     "text": [
      "Requirement already satisfied: nltk in c:\\users\\h189037\\appdata\\local\\continuum\\anaconda3\\lib\\site-packages (3.4)\n",
      "Requirement already satisfied: six in c:\\users\\h189037\\appdata\\local\\continuum\\anaconda3\\lib\\site-packages (from nltk) (1.12.0)\n",
      "Requirement already satisfied: singledispatch in c:\\users\\h189037\\appdata\\local\\continuum\\anaconda3\\lib\\site-packages (from nltk) (3.4.0.3)\n"
     ]
    }
   ],
   "source": [
    "!pip install nltk"
   ]
  },
  {
   "cell_type": "code",
   "execution_count": 14,
   "metadata": {},
   "outputs": [],
   "source": [
    "import nltk"
   ]
  },
  {
   "cell_type": "markdown",
   "metadata": {},
   "source": [
    "## MessagePack\n",
    "It's like JSON. But fast and small.\n",
    "See <a href=\"https://msgpack.org/index.html\" title=\"MessagePack documentation\">msgpack.org</a>"
   ]
  },
  {
   "cell_type": "code",
   "execution_count": 15,
   "metadata": {},
   "outputs": [
    {
     "name": "stdout",
     "output_type": "stream",
     "text": [
      "Requirement already satisfied: msgpack in c:\\users\\h189037\\appdata\\local\\continuum\\anaconda3\\lib\\site-packages (0.6.1)\n"
     ]
    }
   ],
   "source": [
    "!pip install msgpack --user"
   ]
  },
  {
   "cell_type": "markdown",
   "metadata": {},
   "source": [
    "## Gensim\n",
    "Gensim is a Python library for topic modeling, document indexing and similarity retrieval with large corpora. Target audience is the natural language processing (NLP) and information retrieval (IR) community.\n",
    "See https://pypi.org/project/gensim/"
   ]
  },
  {
   "cell_type": "code",
   "execution_count": 16,
   "metadata": {},
   "outputs": [
    {
     "ename": "ModuleNotFoundError",
     "evalue": "No module named 'gensim'",
     "output_type": "error",
     "traceback": [
      "\u001b[1;31m---------------------------------------------------------------------------\u001b[0m",
      "\u001b[1;31mModuleNotFoundError\u001b[0m                       Traceback (most recent call last)",
      "\u001b[1;32m<ipython-input-16-e70e92d32c6e>\u001b[0m in \u001b[0;36m<module>\u001b[1;34m\u001b[0m\n\u001b[1;32m----> 1\u001b[1;33m \u001b[1;32mimport\u001b[0m \u001b[0mgensim\u001b[0m\u001b[1;33m\u001b[0m\u001b[1;33m\u001b[0m\u001b[0m\n\u001b[0m",
      "\u001b[1;31mModuleNotFoundError\u001b[0m: No module named 'gensim'"
     ]
    }
   ],
   "source": [
    "import gensim"
   ]
  },
  {
   "cell_type": "code",
   "execution_count": 17,
   "metadata": {},
   "outputs": [
    {
     "name": "stdout",
     "output_type": "stream",
     "text": [
      "Collecting gensim\n",
      "  Downloading https://files.pythonhosted.org/packages/09/ed/b59a2edde05b7f5755ea68648487c150c7c742361e9c8733c6d4ca005020/gensim-3.8.1-cp37-cp37m-win_amd64.whl (24.2MB)\n",
      "Requirement already satisfied: six>=1.5.0 in c:\\users\\h189037\\appdata\\local\\continuum\\anaconda3\\lib\\site-packages (from gensim) (1.12.0)\n",
      "Requirement already satisfied: numpy>=1.11.3 in c:\\users\\h189037\\appdata\\local\\continuum\\anaconda3\\lib\\site-packages (from gensim) (1.16.2)\n",
      "Requirement already satisfied: scipy>=0.18.1 in c:\\users\\h189037\\appdata\\local\\continuum\\anaconda3\\lib\\site-packages (from gensim) (1.2.1)\n",
      "Collecting smart-open>=1.8.1 (from gensim)\n",
      "  Downloading https://files.pythonhosted.org/packages/0c/09/735f2786dfac9bbf39d244ce75c0313d27d4962e71e0774750dc809f2395/smart_open-1.9.0.tar.gz (70kB)\n",
      "Requirement already satisfied: boto>=2.32 in c:\\users\\h189037\\appdata\\local\\continuum\\anaconda3\\lib\\site-packages (from smart-open>=1.8.1->gensim) (2.49.0)\n",
      "Requirement already satisfied: requests in c:\\users\\h189037\\appdata\\local\\continuum\\anaconda3\\lib\\site-packages (from smart-open>=1.8.1->gensim) (2.21.0)\n",
      "Collecting boto3 (from smart-open>=1.8.1->gensim)\n",
      "  Downloading https://files.pythonhosted.org/packages/67/17/567f679dac6ec93611ce05637094e9736afa40e41c9ed0aaefd90de6f7e8/boto3-1.10.28-py2.py3-none-any.whl (128kB)\n",
      "Requirement already satisfied: certifi>=2017.4.17 in c:\\users\\h189037\\appdata\\local\\continuum\\anaconda3\\lib\\site-packages (from requests->smart-open>=1.8.1->gensim) (2019.3.9)\n",
      "Requirement already satisfied: urllib3<1.25,>=1.21.1 in c:\\users\\h189037\\appdata\\local\\continuum\\anaconda3\\lib\\site-packages (from requests->smart-open>=1.8.1->gensim) (1.24.1)\n",
      "Requirement already satisfied: chardet<3.1.0,>=3.0.2 in c:\\users\\h189037\\appdata\\local\\continuum\\anaconda3\\lib\\site-packages (from requests->smart-open>=1.8.1->gensim) (3.0.4)\n",
      "Requirement already satisfied: idna<2.9,>=2.5 in c:\\users\\h189037\\appdata\\local\\continuum\\anaconda3\\lib\\site-packages (from requests->smart-open>=1.8.1->gensim) (2.8)\n",
      "Collecting jmespath<1.0.0,>=0.7.1 (from boto3->smart-open>=1.8.1->gensim)\n",
      "  Downloading https://files.pythonhosted.org/packages/83/94/7179c3832a6d45b266ddb2aac329e101367fbdb11f425f13771d27f225bb/jmespath-0.9.4-py2.py3-none-any.whl\n",
      "Collecting s3transfer<0.3.0,>=0.2.0 (from boto3->smart-open>=1.8.1->gensim)\n",
      "  Downloading https://files.pythonhosted.org/packages/16/8a/1fc3dba0c4923c2a76e1ff0d52b305c44606da63f718d14d3231e21c51b0/s3transfer-0.2.1-py2.py3-none-any.whl (70kB)\n",
      "Collecting botocore<1.14.0,>=1.13.28 (from boto3->smart-open>=1.8.1->gensim)\n",
      "  Downloading https://files.pythonhosted.org/packages/8e/b3/ab9044d3aa14208f5b6f69665d5f82ad9b028809666e4e70dac1ab0bfd3a/botocore-1.13.28-py2.py3-none-any.whl (5.7MB)\n",
      "Requirement already satisfied: python-dateutil<2.8.1,>=2.1; python_version >= \"2.7\" in c:\\users\\h189037\\appdata\\local\\continuum\\anaconda3\\lib\\site-packages (from botocore<1.14.0,>=1.13.28->boto3->smart-open>=1.8.1->gensim) (2.8.0)\n",
      "Requirement already satisfied: docutils<0.16,>=0.10 in c:\\users\\h189037\\appdata\\local\\continuum\\anaconda3\\lib\\site-packages (from botocore<1.14.0,>=1.13.28->boto3->smart-open>=1.8.1->gensim) (0.14)\n",
      "Building wheels for collected packages: smart-open\n",
      "  Building wheel for smart-open (setup.py): started\n",
      "  Building wheel for smart-open (setup.py): finished with status 'done'\n",
      "  Stored in directory: C:\\Users\\h189037\\AppData\\Local\\pip\\Cache\\wheels\\ab\\10\\93\\5cff86f5b721d77edaecc29959b1c60d894be1f66d91407d28\n",
      "Successfully built smart-open\n",
      "Installing collected packages: jmespath, botocore, s3transfer, boto3, smart-open, gensim\n",
      "Successfully installed boto3-1.10.28 botocore-1.13.28 gensim-3.8.1 jmespath-0.9.4 s3transfer-0.2.1 smart-open-1.9.0\n"
     ]
    }
   ],
   "source": [
    "!pip install gensim"
   ]
  },
  {
   "cell_type": "markdown",
   "metadata": {},
   "source": [
    "## GloVe: Global Vectors for Word Representation\n",
    "Jeffrey Pennington, Richard Socher, and Christopher D. Manning. 2014. <a href=\"https://nlp.stanford.edu/pubs/glove.pdf\" title=\"PDF for GloVe\">GloVe: Global Vectors for Word Representation</a>.\n",
    "\n",
    "You may encounter trouble installing this package because of Windows directory naming. See https://github.com/maciejkula/glove-python/issues/42 for more information and help installing. This package is not used in the Lesson 10 notebook."
   ]
  },
  {
   "cell_type": "code",
   "execution_count": 18,
   "metadata": {},
   "outputs": [
    {
     "name": "stdout",
     "output_type": "stream",
     "text": [
      "Collecting glove_python\n",
      "  Downloading https://files.pythonhosted.org/packages/3e/79/7e7e548dd9dcb741935d031117f4bed133276c2a047aadad42f1552d1771/glove_python-0.1.0.tar.gz (263kB)\n",
      "Requirement already satisfied: numpy in c:\\users\\h189037\\appdata\\local\\continuum\\anaconda3\\lib\\site-packages (from glove_python) (1.16.2)\n",
      "Requirement already satisfied: scipy in c:\\users\\h189037\\appdata\\local\\continuum\\anaconda3\\lib\\site-packages (from glove_python) (1.2.1)\n",
      "Building wheels for collected packages: glove-python\n",
      "  Building wheel for glove-python (setup.py): started\n",
      "  Building wheel for glove-python (setup.py): still running...\n",
      "  Building wheel for glove-python (setup.py): finished with status 'error'\n",
      "  Complete output from command C:\\Users\\h189037\\AppData\\Local\\Continuum\\anaconda3\\python.exe -u -c \"import setuptools, tokenize;__file__='C:\\\\Users\\\\h189037\\\\AppData\\\\Local\\\\Temp\\\\pip-install-wprp8psu\\\\glove-python\\\\setup.py';f=getattr(tokenize, 'open', open)(__file__);code=f.read().replace('\\r\\n', '\\n');f.close();exec(compile(code, __file__, 'exec'))\" bdist_wheel -d C:\\Users\\h189037\\AppData\\Local\\Temp\\pip-wheel-gs45b950 --python-tag cp37:\n",
      "  running bdist_wheel\n",
      "  running build\n",
      "  running build_py\n",
      "  creating build\n",
      "  creating build\\lib.win-amd64-3.7\n",
      "  creating build\\lib.win-amd64-3.7\\glove\n",
      "  copying glove\\corpus.py -> build\\lib.win-amd64-3.7\\glove\n",
      "  copying glove\\glove.py -> build\\lib.win-amd64-3.7\\glove\n",
      "  copying glove\\__init__.py -> build\\lib.win-amd64-3.7\\glove\n",
      "  running build_ext\n",
      "  building 'glove.glove_cython' extension\n",
      "  creating build\\temp.win-amd64-3.7\n",
      "  creating build\\temp.win-amd64-3.7\\Release\n",
      "  creating build\\temp.win-amd64-3.7\\Release\\glove\n",
      "  C:\\Program Files (x86)\\Microsoft Visual Studio\\2017\\Professional\\VC\\Tools\\MSVC\\14.16.27023\\bin\\HostX86\\x64\\cl.exe /c /nologo /Ox /W3 /GL /DNDEBUG /MD -IC:\\Users\\h189037\\AppData\\Local\\Continuum\\anaconda3\\include -IC:\\Users\\h189037\\AppData\\Local\\Continuum\\anaconda3\\include \"-IC:\\Program Files (x86)\\Microsoft Visual Studio\\2017\\Professional\\VC\\Tools\\MSVC\\14.16.27023\\ATLMFC\\include\" \"-IC:\\Program Files (x86)\\Microsoft Visual Studio\\2017\\Professional\\VC\\Tools\\MSVC\\14.16.27023\\include\" \"-IC:\\Program Files (x86)\\Windows Kits\\NETFXSDK\\4.6.1\\include\\um\" \"-IC:\\Program Files (x86)\\Windows Kits\\10\\include\\10.0.17763.0\\ucrt\" \"-IC:\\Program Files (x86)\\Windows Kits\\10\\include\\10.0.17763.0\\shared\" \"-IC:\\Program Files (x86)\\Windows Kits\\10\\include\\10.0.17763.0\\um\" \"-IC:\\Program Files (x86)\\Windows Kits\\10\\include\\10.0.17763.0\\winrt\" \"-IC:\\Program Files (x86)\\Windows Kits\\10\\include\\10.0.17763.0\\cppwinrt\" /Tcglove/glove_cython.c /Fobuild\\temp.win-amd64-3.7\\Release\\glove/glove_cython.obj -fopenmp -ffast-math -march=native\n",
      "  cl : Command line warning D9002 : ignoring unknown option '-fopenmp'\n",
      "  cl : Command line warning D9002 : ignoring unknown option '-ffast-math'\n",
      "  cl : Command line warning D9002 : ignoring unknown option '-march=native'\n",
      "  glove_cython.c\n",
      "  glove/glove_cython.c(1692): warning C4244: '=': conversion from 'Py_ssize_t' to 'int', possible loss of data\n",
      "  glove/glove_cython.c(1701): warning C4244: '=': conversion from 'Py_ssize_t' to 'int', possible loss of data\n",
      "  glove/glove_cython.c(2348): warning C4244: '=': conversion from 'Py_ssize_t' to 'int', possible loss of data\n",
      "  glove/glove_cython.c(2357): warning C4244: '=': conversion from 'Py_ssize_t' to 'int', possible loss of data\n",
      "  glove/glove_cython.c(16753): error C2039: 'exc_type': is not a member of '_ts'\n",
      "  c:\\users\\h189037\\appdata\\local\\continuum\\anaconda3\\include\\pystate.h(212): note: see declaration of '_ts'\n",
      "  glove/glove_cython.c(16754): error C2039: 'exc_value': is not a member of '_ts'\n",
      "  c:\\users\\h189037\\appdata\\local\\continuum\\anaconda3\\include\\pystate.h(212): note: see declaration of '_ts'\n",
      "  glove/glove_cython.c(16755): error C2039: 'exc_traceback': is not a member of '_ts'\n",
      "  c:\\users\\h189037\\appdata\\local\\continuum\\anaconda3\\include\\pystate.h(212): note: see declaration of '_ts'\n",
      "  glove/glove_cython.c(16767): error C2039: 'exc_type': is not a member of '_ts'\n",
      "  c:\\users\\h189037\\appdata\\local\\continuum\\anaconda3\\include\\pystate.h(212): note: see declaration of '_ts'\n",
      "  glove/glove_cython.c(16768): error C2039: 'exc_value': is not a member of '_ts'\n",
      "  c:\\users\\h189037\\appdata\\local\\continuum\\anaconda3\\include\\pystate.h(212): note: see declaration of '_ts'\n",
      "  glove/glove_cython.c(16769): error C2039: 'exc_traceback': is not a member of '_ts'\n",
      "  c:\\users\\h189037\\appdata\\local\\continuum\\anaconda3\\include\\pystate.h(212): note: see declaration of '_ts'\n",
      "  glove/glove_cython.c(16770): error C2039: 'exc_type': is not a member of '_ts'\n",
      "  c:\\users\\h189037\\appdata\\local\\continuum\\anaconda3\\include\\pystate.h(212): note: see declaration of '_ts'\n",
      "  glove/glove_cython.c(16771): error C2039: 'exc_value': is not a member of '_ts'\n",
      "  c:\\users\\h189037\\appdata\\local\\continuum\\anaconda3\\include\\pystate.h(212): note: see declaration of '_ts'\n",
      "  glove/glove_cython.c(16772): error C2039: 'exc_traceback': is not a member of '_ts'\n",
      "  c:\\users\\h189037\\appdata\\local\\continuum\\anaconda3\\include\\pystate.h(212): note: see declaration of '_ts'\n",
      "  glove/glove_cython.c(16815): error C2039: 'exc_type': is not a member of '_ts'\n",
      "  c:\\users\\h189037\\appdata\\local\\continuum\\anaconda3\\include\\pystate.h(212): note: see declaration of '_ts'\n",
      "  glove/glove_cython.c(16816): error C2039: 'exc_value': is not a member of '_ts'\n",
      "  c:\\users\\h189037\\appdata\\local\\continuum\\anaconda3\\include\\pystate.h(212): note: see declaration of '_ts'\n",
      "  glove/glove_cython.c(16817): error C2039: 'exc_traceback': is not a member of '_ts'\n",
      "  c:\\users\\h189037\\appdata\\local\\continuum\\anaconda3\\include\\pystate.h(212): note: see declaration of '_ts'\n",
      "  glove/glove_cython.c(16818): error C2039: 'exc_type': is not a member of '_ts'\n",
      "  c:\\users\\h189037\\appdata\\local\\continuum\\anaconda3\\include\\pystate.h(212): note: see declaration of '_ts'\n",
      "  glove/glove_cython.c(16819): error C2039: 'exc_value': is not a member of '_ts'\n",
      "  c:\\users\\h189037\\appdata\\local\\continuum\\anaconda3\\include\\pystate.h(212): note: see declaration of '_ts'\n",
      "  glove/glove_cython.c(16820): error C2039: 'exc_traceback': is not a member of '_ts'\n",
      "  c:\\users\\h189037\\appdata\\local\\continuum\\anaconda3\\include\\pystate.h(212): note: see declaration of '_ts'\n",
      "  glove/glove_cython.c(16842): error C2039: 'exc_type': is not a member of '_ts'\n",
      "  c:\\users\\h189037\\appdata\\local\\continuum\\anaconda3\\include\\pystate.h(212): note: see declaration of '_ts'\n",
      "  glove/glove_cython.c(16843): error C2039: 'exc_value': is not a member of '_ts'\n",
      "  c:\\users\\h189037\\appdata\\local\\continuum\\anaconda3\\include\\pystate.h(212): note: see declaration of '_ts'\n",
      "  glove/glove_cython.c(16844): error C2039: 'exc_traceback': is not a member of '_ts'\n",
      "  c:\\users\\h189037\\appdata\\local\\continuum\\anaconda3\\include\\pystate.h(212): note: see declaration of '_ts'\n",
      "  glove/glove_cython.c(16845): error C2039: 'exc_type': is not a member of '_ts'\n",
      "  c:\\users\\h189037\\appdata\\local\\continuum\\anaconda3\\include\\pystate.h(212): note: see declaration of '_ts'\n",
      "  glove/glove_cython.c(16846): error C2039: 'exc_value': is not a member of '_ts'\n",
      "  c:\\users\\h189037\\appdata\\local\\continuum\\anaconda3\\include\\pystate.h(212): note: see declaration of '_ts'\n",
      "  glove/glove_cython.c(16847): error C2039: 'exc_traceback': is not a member of '_ts'\n",
      "  c:\\users\\h189037\\appdata\\local\\continuum\\anaconda3\\include\\pystate.h(212): note: see declaration of '_ts'\n",
      "  error: command 'C:\\\\Program Files (x86)\\\\Microsoft Visual Studio\\\\2017\\\\Professional\\\\VC\\\\Tools\\\\MSVC\\\\14.16.27023\\\\bin\\\\HostX86\\\\x64\\\\cl.exe' failed with exit status 2\n",
      "  \n",
      "  ----------------------------------------\n",
      "  Running setup.py clean for glove-python\n",
      "  Complete output from command C:\\Users\\h189037\\AppData\\Local\\Continuum\\anaconda3\\python.exe -u -c \"import setuptools, tokenize;__file__='C:\\\\Users\\\\h189037\\\\AppData\\\\Local\\\\Temp\\\\pip-install-wprp8psu\\\\glove-python\\\\setup.py';f=getattr(tokenize, 'open', open)(__file__);code=f.read().replace('\\r\\n', '\\n');f.close();exec(compile(code, __file__, 'exec'))\" clean --all:\n",
      "  usage: -c [global_opts] cmd1 [cmd1_opts] [cmd2 [cmd2_opts] ...]\n",
      "     or: -c --help [cmd1 cmd2 ...]\n",
      "     or: -c --help-commands\n",
      "     or: -c cmd --help\n",
      "  \n",
      "  error: option --all not recognized\n",
      "  \n",
      "  ----------------------------------------\n",
      "Failed to build glove-python\n",
      "Installing collected packages: glove-python\n",
      "  Running setup.py install for glove-python: started\n",
      "    Running setup.py install for glove-python: still running...\n",
      "    Running setup.py install for glove-python: finished with status 'error'\n",
      "    Complete output from command C:\\Users\\h189037\\AppData\\Local\\Continuum\\anaconda3\\python.exe -u -c \"import setuptools, tokenize;__file__='C:\\\\Users\\\\h189037\\\\AppData\\\\Local\\\\Temp\\\\pip-install-wprp8psu\\\\glove-python\\\\setup.py';f=getattr(tokenize, 'open', open)(__file__);code=f.read().replace('\\r\\n', '\\n');f.close();exec(compile(code, __file__, 'exec'))\" install --record C:\\Users\\h189037\\AppData\\Local\\Temp\\pip-record-r2k4hu6r\\install-record.txt --single-version-externally-managed --compile:\n",
      "    running install\n",
      "    running build\n",
      "    running build_py\n",
      "    running build_ext\n",
      "    building 'glove.glove_cython' extension\n",
      "    C:\\Program Files (x86)\\Microsoft Visual Studio\\2017\\Professional\\VC\\Tools\\MSVC\\14.16.27023\\bin\\HostX86\\x64\\cl.exe /c /nologo /Ox /W3 /GL /DNDEBUG /MD -IC:\\Users\\h189037\\AppData\\Local\\Continuum\\anaconda3\\include -IC:\\Users\\h189037\\AppData\\Local\\Continuum\\anaconda3\\include \"-IC:\\Program Files (x86)\\Microsoft Visual Studio\\2017\\Professional\\VC\\Tools\\MSVC\\14.16.27023\\ATLMFC\\include\" \"-IC:\\Program Files (x86)\\Microsoft Visual Studio\\2017\\Professional\\VC\\Tools\\MSVC\\14.16.27023\\include\" \"-IC:\\Program Files (x86)\\Windows Kits\\NETFXSDK\\4.6.1\\include\\um\" \"-IC:\\Program Files (x86)\\Windows Kits\\10\\include\\10.0.17763.0\\ucrt\" \"-IC:\\Program Files (x86)\\Windows Kits\\10\\include\\10.0.17763.0\\shared\" \"-IC:\\Program Files (x86)\\Windows Kits\\10\\include\\10.0.17763.0\\um\" \"-IC:\\Program Files (x86)\\Windows Kits\\10\\include\\10.0.17763.0\\winrt\" \"-IC:\\Program Files (x86)\\Windows Kits\\10\\include\\10.0.17763.0\\cppwinrt\" /Tcglove/glove_cython.c /Fobuild\\temp.win-amd64-3.7\\Release\\glove/glove_cython.obj -fopenmp -ffast-math -march=native\n",
      "    cl : Command line warning D9002 : ignoring unknown option '-fopenmp'\n",
      "    cl : Command line warning D9002 : ignoring unknown option '-ffast-math'\n",
      "    cl : Command line warning D9002 : ignoring unknown option '-march=native'\n",
      "    glove_cython.c\n",
      "    glove/glove_cython.c(1692): warning C4244: '=': conversion from 'Py_ssize_t' to 'int', possible loss of data\n",
      "    glove/glove_cython.c(1701): warning C4244: '=': conversion from 'Py_ssize_t' to 'int', possible loss of data\n",
      "    glove/glove_cython.c(2348): warning C4244: '=': conversion from 'Py_ssize_t' to 'int', possible loss of data\n",
      "    glove/glove_cython.c(2357): warning C4244: '=': conversion from 'Py_ssize_t' to 'int', possible loss of data\n",
      "    glove/glove_cython.c(16753): error C2039: 'exc_type': is not a member of '_ts'\n",
      "    c:\\users\\h189037\\appdata\\local\\continuum\\anaconda3\\include\\pystate.h(212): note: see declaration of '_ts'\n",
      "    glove/glove_cython.c(16754): error C2039: 'exc_value': is not a member of '_ts'\n",
      "    c:\\users\\h189037\\appdata\\local\\continuum\\anaconda3\\include\\pystate.h(212): note: see declaration of '_ts'\n",
      "    glove/glove_cython.c(16755): error C2039: 'exc_traceback': is not a member of '_ts'\n",
      "    c:\\users\\h189037\\appdata\\local\\continuum\\anaconda3\\include\\pystate.h(212): note: see declaration of '_ts'\n",
      "    glove/glove_cython.c(16767): error C2039: 'exc_type': is not a member of '_ts'\n",
      "    c:\\users\\h189037\\appdata\\local\\continuum\\anaconda3\\include\\pystate.h(212): note: see declaration of '_ts'\n",
      "    glove/glove_cython.c(16768): error C2039: 'exc_value': is not a member of '_ts'\n",
      "    c:\\users\\h189037\\appdata\\local\\continuum\\anaconda3\\include\\pystate.h(212): note: see declaration of '_ts'\n",
      "    glove/glove_cython.c(16769): error C2039: 'exc_traceback': is not a member of '_ts'\n",
      "    c:\\users\\h189037\\appdata\\local\\continuum\\anaconda3\\include\\pystate.h(212): note: see declaration of '_ts'\n",
      "    glove/glove_cython.c(16770): error C2039: 'exc_type': is not a member of '_ts'\n",
      "    c:\\users\\h189037\\appdata\\local\\continuum\\anaconda3\\include\\pystate.h(212): note: see declaration of '_ts'\n",
      "    glove/glove_cython.c(16771): error C2039: 'exc_value': is not a member of '_ts'\n",
      "    c:\\users\\h189037\\appdata\\local\\continuum\\anaconda3\\include\\pystate.h(212): note: see declaration of '_ts'\n",
      "    glove/glove_cython.c(16772): error C2039: 'exc_traceback': is not a member of '_ts'\n",
      "    c:\\users\\h189037\\appdata\\local\\continuum\\anaconda3\\include\\pystate.h(212): note: see declaration of '_ts'\n",
      "    glove/glove_cython.c(16815): error C2039: 'exc_type': is not a member of '_ts'\n",
      "    c:\\users\\h189037\\appdata\\local\\continuum\\anaconda3\\include\\pystate.h(212): note: see declaration of '_ts'\n",
      "    glove/glove_cython.c(16816): error C2039: 'exc_value': is not a member of '_ts'\n",
      "    c:\\users\\h189037\\appdata\\local\\continuum\\anaconda3\\include\\pystate.h(212): note: see declaration of '_ts'\n",
      "    glove/glove_cython.c(16817): error C2039: 'exc_traceback': is not a member of '_ts'\n",
      "    c:\\users\\h189037\\appdata\\local\\continuum\\anaconda3\\include\\pystate.h(212): note: see declaration of '_ts'\n",
      "    glove/glove_cython.c(16818): error C2039: 'exc_type': is not a member of '_ts'\n",
      "    c:\\users\\h189037\\appdata\\local\\continuum\\anaconda3\\include\\pystate.h(212): note: see declaration of '_ts'\n",
      "    glove/glove_cython.c(16819): error C2039: 'exc_value': is not a member of '_ts'\n",
      "    c:\\users\\h189037\\appdata\\local\\continuum\\anaconda3\\include\\pystate.h(212): note: see declaration of '_ts'\n",
      "    glove/glove_cython.c(16820): error C2039: 'exc_traceback': is not a member of '_ts'\n",
      "    c:\\users\\h189037\\appdata\\local\\continuum\\anaconda3\\include\\pystate.h(212): note: see declaration of '_ts'\n",
      "    glove/glove_cython.c(16842): error C2039: 'exc_type': is not a member of '_ts'\n",
      "    c:\\users\\h189037\\appdata\\local\\continuum\\anaconda3\\include\\pystate.h(212): note: see declaration of '_ts'\n",
      "    glove/glove_cython.c(16843): error C2039: 'exc_value': is not a member of '_ts'\n",
      "    c:\\users\\h189037\\appdata\\local\\continuum\\anaconda3\\include\\pystate.h(212): note: see declaration of '_ts'\n",
      "    glove/glove_cython.c(16844): error C2039: 'exc_traceback': is not a member of '_ts'\n",
      "    c:\\users\\h189037\\appdata\\local\\continuum\\anaconda3\\include\\pystate.h(212): note: see declaration of '_ts'\n",
      "    glove/glove_cython.c(16845): error C2039: 'exc_type': is not a member of '_ts'\n",
      "    c:\\users\\h189037\\appdata\\local\\continuum\\anaconda3\\include\\pystate.h(212): note: see declaration of '_ts'\n",
      "    glove/glove_cython.c(16846): error C2039: 'exc_value': is not a member of '_ts'\n",
      "    c:\\users\\h189037\\appdata\\local\\continuum\\anaconda3\\include\\pystate.h(212): note: see declaration of '_ts'\n",
      "    glove/glove_cython.c(16847): error C2039: 'exc_traceback': is not a member of '_ts'\n",
      "    c:\\users\\h189037\\appdata\\local\\continuum\\anaconda3\\include\\pystate.h(212): note: see declaration of '_ts'\n",
      "    error: command 'C:\\\\Program Files (x86)\\\\Microsoft Visual Studio\\\\2017\\\\Professional\\\\VC\\\\Tools\\\\MSVC\\\\14.16.27023\\\\bin\\\\HostX86\\\\x64\\\\cl.exe' failed with exit status 2\n",
      "    \n",
      "    ----------------------------------------\n"
     ]
    },
    {
     "name": "stderr",
     "output_type": "stream",
     "text": [
      "  Failed building wheel for glove-python\n",
      "  Failed cleaning build dir for glove-python\n",
      "Command \"C:\\Users\\h189037\\AppData\\Local\\Continuum\\anaconda3\\python.exe -u -c \"import setuptools, tokenize;__file__='C:\\\\Users\\\\h189037\\\\AppData\\\\Local\\\\Temp\\\\pip-install-wprp8psu\\\\glove-python\\\\setup.py';f=getattr(tokenize, 'open', open)(__file__);code=f.read().replace('\\r\\n', '\\n');f.close();exec(compile(code, __file__, 'exec'))\" install --record C:\\Users\\h189037\\AppData\\Local\\Temp\\pip-record-r2k4hu6r\\install-record.txt --single-version-externally-managed --compile\" failed with error code 1 in C:\\Users\\h189037\\AppData\\Local\\Temp\\pip-install-wprp8psu\\glove-python\\\n"
     ]
    }
   ],
   "source": [
    "!pip install glove_python"
   ]
  },
  {
   "cell_type": "markdown",
   "metadata": {},
   "source": [
    "## stopwords\n",
    "Stopwords filter for 42 languages\n",
    "See https://pypi.org/project/stopwords/"
   ]
  },
  {
   "cell_type": "code",
   "execution_count": 19,
   "metadata": {},
   "outputs": [
    {
     "name": "stdout",
     "output_type": "stream",
     "text": [
      "stopwords (0.1.3)                  - Stopwords filter for 42 languages\n",
      "stopwords-cnn (0.0.5)              - Stopwords filter for Chinese\n",
      "stopwords-guilannlp (13.2019.3.5)  - A comprehensive package for stopwords in NLP and text mining\n",
      "stopword (0.0.4)                   - Stopwords filter for Chinese\n",
      "udicOpenData (2.4)                 - udic dictionary, stopwords module\n",
      "UdicToolKits (1.7)                 - udic dictionary, stopwords, TextPreprocessing module\n",
      "sngrams (0.2.0)                    - Term and paragraph frequency counts for non-stopwords in input document.\n",
      "text-hr (0.18)                     - Morphological/Inflection/Lemmatization Engine for Croatian language, POS tagger, stopwords\n",
      "stopwordsiso (0.5.1)               - Collection of stopwords for multiple languages. Using ISO 639-1 language code.\n"
     ]
    }
   ],
   "source": [
    "!pip search stopwords"
   ]
  },
  {
   "cell_type": "code",
   "execution_count": null,
   "metadata": {},
   "outputs": [],
   "source": []
  }
 ],
 "metadata": {
  "kernelspec": {
   "display_name": "Python 3",
   "language": "python",
   "name": "python3"
  },
  "language_info": {
   "codemirror_mode": {
    "name": "ipython",
    "version": 3
   },
   "file_extension": ".py",
   "mimetype": "text/x-python",
   "name": "python",
   "nbconvert_exporter": "python",
   "pygments_lexer": "ipython3",
   "version": "3.7.3"
  }
 },
 "nbformat": 4,
 "nbformat_minor": 2
}
