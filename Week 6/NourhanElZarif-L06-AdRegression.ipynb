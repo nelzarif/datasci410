{
 "cells": [
  {
   "cell_type": "markdown",
   "metadata": {},
   "source": [
    "# Lesson 6 Assignment - Advertising Sales Regression\n",
    "\n",
    "## Author - Nourhan El Zarif\n",
    "\n"
   ]
  },
  {
   "cell_type": "markdown",
   "metadata": {},
   "source": [
    "### Instructions  \n",
    "Perform four different linear regressions on advertising sales data located in 'Advertising.csv'.  Your dependent feature is 'sales', a measure of sales of a product in a given market in thousands of dollars. \n",
    "\n",
    "The independent features for each of the first 3 separate regressions are:\n",
    "\n",
    " 1. 'TV': advertising dollars spent on TV ads for a single product in a given market\n",
    " 2. 'radio': advertising dollars spent on radio ads\n",
    " 3. 'newspaper': advertising dollars spent on newspaper ads\n",
    "\n",
    "For the first 3 linear regression performed:\n",
    "\n",
    "- Produce a labeled graph showing the best fit line with the data points.\n",
    "- Interpret both the slope and y-intercept.\n",
    " \n",
    "The final regression(#4) includes all 3 features: (a) TV, (b) radio, and (c) newspaper. \n",
    "- Interpret each partial slope and the intercept parameters.\n",
    "- Interpret the adjusted R-squared.\n",
    "- Find and report the mean-squared error.\n",
    "\n",
    "#### Please prepare this information for a client who may not understand what the parameters mean.\n"
   ]
  },
  {
   "cell_type": "code",
   "execution_count": 1,
   "metadata": {},
   "outputs": [],
   "source": [
    "# Import libraries\n",
    "import numpy as np\n",
    "import pandas as pd\n",
    "import matplotlib.pyplot as plt\n",
    "%matplotlib inline"
   ]
  },
  {
   "cell_type": "code",
   "execution_count": 2,
   "metadata": {},
   "outputs": [
    {
     "name": "stdout",
     "output_type": "stream",
     "text": [
      "      TV  radio  newspaper  sales\n",
      "1  230.1   37.8       69.2   22.1\n",
      "2   44.5   39.3       45.1   10.4\n",
      "3   17.2   45.9       69.3    9.3\n",
      "4  151.5   41.3       58.5   18.5\n",
      "5  180.8   10.8       58.4   12.9\n",
      "(200, 4)\n"
     ]
    },
    {
     "data": {
      "text/html": [
       "<div>\n",
       "<style scoped>\n",
       "    .dataframe tbody tr th:only-of-type {\n",
       "        vertical-align: middle;\n",
       "    }\n",
       "\n",
       "    .dataframe tbody tr th {\n",
       "        vertical-align: top;\n",
       "    }\n",
       "\n",
       "    .dataframe thead th {\n",
       "        text-align: right;\n",
       "    }\n",
       "</style>\n",
       "<table border=\"1\" class=\"dataframe\">\n",
       "  <thead>\n",
       "    <tr style=\"text-align: right;\">\n",
       "      <th></th>\n",
       "      <th>TV</th>\n",
       "      <th>radio</th>\n",
       "      <th>newspaper</th>\n",
       "      <th>sales</th>\n",
       "    </tr>\n",
       "  </thead>\n",
       "  <tbody>\n",
       "    <tr>\n",
       "      <th>count</th>\n",
       "      <td>200.000000</td>\n",
       "      <td>200.000000</td>\n",
       "      <td>200.000000</td>\n",
       "      <td>200.000000</td>\n",
       "    </tr>\n",
       "    <tr>\n",
       "      <th>mean</th>\n",
       "      <td>147.042500</td>\n",
       "      <td>23.264000</td>\n",
       "      <td>30.554000</td>\n",
       "      <td>14.022500</td>\n",
       "    </tr>\n",
       "    <tr>\n",
       "      <th>std</th>\n",
       "      <td>85.854236</td>\n",
       "      <td>14.846809</td>\n",
       "      <td>21.778621</td>\n",
       "      <td>5.217457</td>\n",
       "    </tr>\n",
       "    <tr>\n",
       "      <th>min</th>\n",
       "      <td>0.700000</td>\n",
       "      <td>0.000000</td>\n",
       "      <td>0.300000</td>\n",
       "      <td>1.600000</td>\n",
       "    </tr>\n",
       "    <tr>\n",
       "      <th>25%</th>\n",
       "      <td>74.375000</td>\n",
       "      <td>9.975000</td>\n",
       "      <td>12.750000</td>\n",
       "      <td>10.375000</td>\n",
       "    </tr>\n",
       "    <tr>\n",
       "      <th>50%</th>\n",
       "      <td>149.750000</td>\n",
       "      <td>22.900000</td>\n",
       "      <td>25.750000</td>\n",
       "      <td>12.900000</td>\n",
       "    </tr>\n",
       "    <tr>\n",
       "      <th>75%</th>\n",
       "      <td>218.825000</td>\n",
       "      <td>36.525000</td>\n",
       "      <td>45.100000</td>\n",
       "      <td>17.400000</td>\n",
       "    </tr>\n",
       "    <tr>\n",
       "      <th>max</th>\n",
       "      <td>296.400000</td>\n",
       "      <td>49.600000</td>\n",
       "      <td>114.000000</td>\n",
       "      <td>27.000000</td>\n",
       "    </tr>\n",
       "  </tbody>\n",
       "</table>\n",
       "</div>"
      ],
      "text/plain": [
       "               TV       radio   newspaper       sales\n",
       "count  200.000000  200.000000  200.000000  200.000000\n",
       "mean   147.042500   23.264000   30.554000   14.022500\n",
       "std     85.854236   14.846809   21.778621    5.217457\n",
       "min      0.700000    0.000000    0.300000    1.600000\n",
       "25%     74.375000    9.975000   12.750000   10.375000\n",
       "50%    149.750000   22.900000   25.750000   12.900000\n",
       "75%    218.825000   36.525000   45.100000   17.400000\n",
       "max    296.400000   49.600000  114.000000   27.000000"
      ]
     },
     "execution_count": 2,
     "metadata": {},
     "output_type": "execute_result"
    }
   ],
   "source": [
    "# Load data\n",
    "filename = 'https://library.startlearninglabs.uw.edu/DATASCI410/Datasets/Advertising.csv'\n",
    "ad_data = pd.read_csv(filename, index_col=0)\n",
    "print(ad_data.head())\n",
    "print(ad_data.shape)\n",
    "ad_data.describe()"
   ]
  },
  {
   "cell_type": "markdown",
   "metadata": {
    "collapsed": true
   },
   "source": [
    "# Regression 1: TV"
   ]
  },
  {
   "cell_type": "code",
   "execution_count": 3,
   "metadata": {},
   "outputs": [
    {
     "name": "stdout",
     "output_type": "stream",
     "text": [
      "Intercept: 7.03259\n",
      "Slope : 0.04754\n"
     ]
    },
    {
     "data": {
      "image/png": "[encoded data removed]",
      "text/plain": [
       "<Figure size 432x288 with 1 Axes>"
      ]
     },
     "metadata": {
      "needs_background": "light"
     },
     "output_type": "display_data"
    }
   ],
   "source": [
    "from sklearn import linear_model\n",
    "# First initialize the model.\n",
    "linear_model = linear_model.LinearRegression()\n",
    "\n",
    "#the number of rows\n",
    "n_points = len(ad_data)\n",
    "\n",
    "# Fit the model to the data\n",
    "tv_input = ad_data['TV'].values.reshape(n_points, 1)\n",
    "sales_output = ad_data['sales'].values.reshape(n_points, 1)\n",
    "linear_model.fit(tv_input, sales_output)\n",
    "\n",
    "# Get predictions\n",
    "sales_pred = linear_model.predict(tv_input)\n",
    "\n",
    "# Plot output\n",
    "plt.scatter(tv_input, sales_output)\n",
    "plt.plot(tv_input, sales_pred, linewidth=2)\n",
    "plt.grid(True)\n",
    "plt.xlabel('TV Advertising Dollars')\n",
    "plt.ylabel('Sales in Thousands of Dollars')\n",
    "plt.title('Sales vs TV Advertising')\n",
    "\n",
    "# Print model parameters\n",
    "# Get slope (m) and y-intercept (b)\n",
    "print('Intercept: {0:.5f}'.format(linear_model.intercept_[0]))\n",
    "print('Slope : {0:.5f}'.format(linear_model.coef_[0][0]))"
   ]
  },
  {
   "cell_type": "markdown",
   "metadata": {},
   "source": [
    "The intercept of of this model is 7. This means that with 0 dollars spent on TV advertising, theres 7,000 dollars in sales. The Slope is 0.0475. That means for every dollar spent on TV advertising, there is an additional sales of 47.5 dollars(0.0475 * 1000). "
   ]
  },
  {
   "cell_type": "markdown",
   "metadata": {},
   "source": [
    "# Regression 2: Radio"
   ]
  },
  {
   "cell_type": "code",
   "execution_count": 4,
   "metadata": {},
   "outputs": [
    {
     "name": "stdout",
     "output_type": "stream",
     "text": [
      "Intercept: 9.31164\n",
      "Slope : 0.20250\n"
     ]
    },
    {
     "data": {
      "image/png": "[encoded data removed]",
      "text/plain": [
       "<Figure size 432x288 with 1 Axes>"
      ]
     },
     "metadata": {
      "needs_background": "light"
     },
     "output_type": "display_data"
    }
   ],
   "source": [
    "from sklearn import linear_model\n",
    "# First initialize the model.\n",
    "linear_model = linear_model.LinearRegression()\n",
    "\n",
    "# Fit the model to the data\n",
    "radio_input = ad_data['radio'].values.reshape(n_points, 1)\n",
    "sales_output = ad_data['sales'].values.reshape(n_points, 1)\n",
    "linear_model.fit(radio_input, sales_output)\n",
    "\n",
    "# Get predictions\n",
    "sales_pred = linear_model.predict(radio_input)\n",
    "\n",
    "# Plot output\n",
    "plt.scatter(radio_input, sales_output)\n",
    "plt.plot(radio_input, sales_pred, linewidth=2)\n",
    "plt.grid(True)\n",
    "plt.xlabel('Radio Advertising Dollars')\n",
    "plt.ylabel('Sales in Thousands of Dollars')\n",
    "plt.title('Sales vs Radio Advertising')\n",
    "\n",
    "# Print model parameters\n",
    "# Get slope (m) and y-intercept (b)\n",
    "print('Intercept: {0:.5f}'.format(linear_model.intercept_[0]))\n",
    "print('Slope : {0:.5f}'.format(linear_model.coef_[0][0]))"
   ]
  },
  {
   "cell_type": "markdown",
   "metadata": {},
   "source": [
    "The intercept of of this model is 9.3. This means that with 0 dollars spent on radio advertising, theres 9,300 dollars in sales. The Slope is 0.2025. That means for every dollar spent on radio advertising, there is an additional sales of 202.5 dollars(0.2025 * 1000)."
   ]
  },
  {
   "cell_type": "markdown",
   "metadata": {},
   "source": [
    "# Regression 3: Newspaper"
   ]
  },
  {
   "cell_type": "code",
   "execution_count": 5,
   "metadata": {},
   "outputs": [
    {
     "name": "stdout",
     "output_type": "stream",
     "text": [
      "Intercept: 12.35141\n",
      "Slope : 0.05469\n"
     ]
    },
    {
     "data": {
      "image/png": "[encoded data removed]",
      "text/plain": [
       "<Figure size 432x288 with 1 Axes>"
      ]
     },
     "metadata": {
      "needs_background": "light"
     },
     "output_type": "display_data"
    }
   ],
   "source": [
    "from sklearn import linear_model\n",
    "# First initialize the model.\n",
    "linear_model = linear_model.LinearRegression()\n",
    "\n",
    "# Fit the model to the data\n",
    "news_input = ad_data['newspaper'].values.reshape(n_points, 1)\n",
    "sales_output = ad_data['sales'].values.reshape(n_points, 1)\n",
    "linear_model.fit(news_input, sales_output)\n",
    "\n",
    "# Get predictions\n",
    "sales_pred = linear_model.predict(news_input)\n",
    "\n",
    "# Plot output\n",
    "plt.scatter(news_input, sales_output)\n",
    "plt.plot(news_input, sales_pred, linewidth=2)\n",
    "plt.grid(True)\n",
    "plt.xlabel('Newspaper Advertising Dollars')\n",
    "plt.ylabel('Sales in Thousands of Dollars')\n",
    "plt.title('Sales vs Newspaper Advertising Advertising')\n",
    "\n",
    "# Print model parameters\n",
    "# Get slope (m) and y-intercept (b)\n",
    "print('Intercept: {0:.5f}'.format(linear_model.intercept_[0]))\n",
    "print('Slope : {0:.5f}'.format(linear_model.coef_[0][0]))"
   ]
  },
  {
   "cell_type": "markdown",
   "metadata": {},
   "source": [
    "The intercept of of this model is 12.3. This means that with 0 dollars spent on newspaper advertising, theres 12,300 dollars in sales. The Slope is 0.0546. That means for every dollar spent on newspaper advertising, there is an additional sales of 54.5 dollars(0.0546 * 1000)."
   ]
  },
  {
   "cell_type": "markdown",
   "metadata": {},
   "source": [
    "# Regression 4: All Features"
   ]
  },
  {
   "cell_type": "code",
   "execution_count": 6,
   "metadata": {},
   "outputs": [
    {
     "name": "stdout",
     "output_type": "stream",
     "text": [
      "Intercept, Slope : Intercept    2.938889\n",
      "TV           0.045765\n",
      "radio        0.188530\n",
      "newspaper   -0.001037\n",
      "dtype: float64\n",
      "\n",
      "SSE, SST, SSR, and RMSE:\n",
      "SSE: 4860.323487097813\n",
      "SST: 5417.14875\n",
      "SSR: 556.8252629021872\n",
      "RMSE: 40.250563089633964\n",
      "                            OLS Regression Results                            \n",
      "==============================================================================\n",
      "Dep. Variable:                  sales   R-squared:                       0.897\n",
      "Model:                            OLS   Adj. R-squared:                  0.896\n",
      "Method:                 Least Squares   F-statistic:                     570.3\n",
      "Date:                Mon, 18 Nov 2019   Prob (F-statistic):           1.58e-96\n",
      "Time:                        01:44:08   Log-Likelihood:                -386.18\n",
      "No. Observations:                 200   AIC:                             780.4\n",
      "Df Residuals:                     196   BIC:                             793.6\n",
      "Df Model:                           3                                         \n",
      "Covariance Type:            nonrobust                                         \n",
      "==============================================================================\n",
      "                 coef    std err          t      P>|t|      [0.025      0.975]\n",
      "------------------------------------------------------------------------------\n",
      "Intercept      2.9389      0.312      9.422      0.000       2.324       3.554\n",
      "TV             0.0458      0.001     32.809      0.000       0.043       0.049\n",
      "radio          0.1885      0.009     21.893      0.000       0.172       0.206\n",
      "newspaper     -0.0010      0.006     -0.177      0.860      -0.013       0.011\n",
      "==============================================================================\n",
      "Omnibus:                       60.414   Durbin-Watson:                   2.084\n",
      "Prob(Omnibus):                  0.000   Jarque-Bera (JB):              151.241\n",
      "Skew:                          -1.327   Prob(JB):                     1.44e-33\n",
      "Kurtosis:                       6.332   Cond. No.                         454.\n",
      "==============================================================================\n",
      "\n",
      "Warnings:\n",
      "[1] Standard Errors assume that the covariance matrix of the errors is correctly specified.\n"
     ]
    },
    {
     "data": {
      "text/plain": [
       "Text(0.5, 1.0, 'Residual Histogram')"
      ]
     },
     "execution_count": 6,
     "metadata": {},
     "output_type": "execute_result"
    },
    {
     "data": {
      "image/png": "[encoded data removed]",
      "text/plain": [
       "<Figure size 432x288 with 1 Axes>"
      ]
     },
     "metadata": {
      "needs_background": "light"
     },
     "output_type": "display_data"
    }
   ],
   "source": [
    "import statsmodels.formula.api as sm\n",
    "import seaborn as sns\n",
    "\n",
    "ols_model = sm.ols(formula = 'sales ~ TV + radio + newspaper', data = ad_data)\n",
    "\n",
    "sales_output = ad_data['sales']\n",
    "\n",
    "results = ols_model.fit()\n",
    "\n",
    "# Get slope (m) and y-intercept (b)\n",
    "print('Intercept, Slope : {}'.format(results.params))\n",
    "\n",
    "print('\\nSSE, SST, SSR, and RMSE:')\n",
    "mean_sales = np.mean(sales_output)\n",
    "sst = np.sum((sales_output - mean_sales)**2)\n",
    "sse = sst - results.ssr\n",
    "print('SSE: {}'.format(sse))\n",
    "print('SST: {}'.format(sst))\n",
    "print('SSR: {}'.format(results.ssr))\n",
    "print('RMSE: {}'.format(np.sqrt(results.mse_model)))\n",
    "\n",
    "# Get most of the linear regression statistics we are interested in:\n",
    "print(results.summary())\n",
    "\n",
    "# Plot a histogram of the residuals\n",
    "sns.distplot(results.resid, hist=True)\n",
    "plt.xlabel('Residual')\n",
    "plt.ylabel('Frequency')\n",
    "plt.title('Residual Histogram')"
   ]
  },
  {
   "cell_type": "markdown",
   "metadata": {},
   "source": [
    "Partial slope and the intercept parameters:\n",
    "The intercept of of this model is 2.9. This means that with 0 dollars spent on advertising, theres 2,900 dollars in sales. The partial slope for TV advertising is 0.0458, or an increase of 45.8 dollars on every dollar of TV advertising spent. The partial slope for radio advertising is 0.1885, or an increase of 188.5 dollars on every dollar of radio advertising spent. Radio advertising has the highest return in sales. The partial slope for newspaper advertising is -0.0010, or a loss of a dollar on every dollar of newspaper advertising spent. This means that newspaper advertising has no positive affect and is a waste of advertising budget. \n",
    "\n",
    "Adjusted R-squared:\n",
    "The adjusted R-squared is 0.896. The R-squared value explains how well the model explains the data. It is adjusted for the degrees of freedom, or number of variables. The value is close to 1, so we can say that our model explains the data well.\n",
    "\n",
    "Mean-squared error:\n",
    "The root mean squared error (RMSE)is 40.25. The mean-squared error is about 1620(in dollars squared). The mean squared error(MSE) is the Sum of squared errors divided by the degrees of freedom (SSE/k). The SSE is 4860. If we divid this value by 3, for 3 features, we get 1620. "
   ]
  },
  {
   "cell_type": "code",
   "execution_count": null,
   "metadata": {},
   "outputs": [],
   "source": []
  }
 ],
 "metadata": {
  "kernelspec": {
   "display_name": "Python 3",
   "language": "python",
   "name": "python3"
  },
  "language_info": {
   "codemirror_mode": {
    "name": "ipython",
    "version": 3
   },
   "file_extension": ".py",
   "mimetype": "text/x-python",
   "name": "python",
   "nbconvert_exporter": "python",
   "pygments_lexer": "ipython3",
   "version": "3.7.3"
  }
 },
 "nbformat": 4,
 "nbformat_minor": 2
}
